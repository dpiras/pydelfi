{
 "cells": [
  {
   "cell_type": "markdown",
   "metadata": {},
   "source": [
    "This is the first draft of the Gaussian Likelihood compressor, a tool which takes some data as an input, and compresses them to a lower dimensional space where the likelihood is simply Gaussian.\n",
    "\n",
    "In this notebook, you can find 3 tools: first of all, a way to generate the data in order to perform your experiments. \n",
    "\n",
    "Then, a compressor, which at this stage could either be an auto-encoder, an Information Maximising Neural Network, or Score Compression in all its various forms.\n",
    "\n",
    "Finally, we apply a Normalising Flow to map it to a standard Gaussian."
   ]
  },
  {
   "cell_type": "markdown",
   "metadata": {},
   "source": [
    "# Data generation"
   ]
  },
  {
   "cell_type": "code",
   "execution_count": 1,
   "metadata": {},
   "outputs": [],
   "source": [
    "# we write here the script to create our dataset, taken primarily from zupcx26 code\n",
    "# we will add modules to import progressively "
   ]
  },
  {
   "cell_type": "code",
   "execution_count": 2,
   "metadata": {},
   "outputs": [],
   "source": [
    "import numpy as np\n",
    "import matplotlib.pyplot as plt\n",
    "import tensorflow as tf\n",
    "import tensorflow_probability as tfp\n",
    "import pydelfi.score as score\n",
    "\n",
    "tfd = tfp.distributions\n",
    "tfb = tfp.bijectors\n",
    "\n",
    "def find_level(nums, level):\n",
    "    \"\"\"\n",
    "    Function to find confidence levels \n",
    "    \"\"\"\n",
    "    sum = 0\n",
    "    for num in nums:\n",
    "        sum += num\n",
    "        if sum > level:\n",
    "            return num\n",
    "        \n",
    "def lognorm(data, mean, sigma):\n",
    "    \"\"\"\n",
    "    Function to draw the posterior from samples\n",
    "    \"\"\"\n",
    "    pref = data*np.sqrt(2*np.pi) * sigma\n",
    "    expo = np.exp(-(np.log(data)-mean)**2 / (2*sigma**2))\n",
    "    return expo/pref\n",
    "\n",
    "def real_post(sigma, mean, obs):\n",
    "    \"\"\"\n",
    "    Function to draw the real posterior for the toy model only\n",
    "    \"\"\"\n",
    "    pref = obs*np.sqrt(2*np.pi) * sigma\n",
    "    expo = np.exp(-(np.log(obs)-mean)**2 / (2*sigma**2))\n",
    "    evidence = 1 #inc_gamma(0, np.log(obs)**2 / 2) / (2*obs*np.sqrt(2*np.pi))\n",
    "    return (expo/pref)/(evidence)\n",
    "\n",
    "%matplotlib inline"
   ]
  },
  {
   "cell_type": "code",
   "execution_count": 3,
   "metadata": {},
   "outputs": [],
   "source": [
    "# we define a few hyper parameters here\n",
    "np.random.seed(13)\n",
    "n = 1000 # total number of data points for compression\n",
    "n_sims = 1000\n",
    "n_class = 1 # number of different cosmologies for the training\n",
    "q_prior = np.linspace(0.18, 0.22, n_sims)#np.random.uniform(0, 1, n)\n",
    "q_posterior = np.copy(q_prior)\n",
    "q_fid = np.random.uniform(0, 1, 1)"
   ]
  },
  {
   "cell_type": "code",
   "execution_count": 4,
   "metadata": {},
   "outputs": [
    {
     "data": {
      "text/plain": [
       "array([0.77770241])"
      ]
     },
     "execution_count": 4,
     "metadata": {},
     "output_type": "execute_result"
    }
   ],
   "source": [
    "q_fid "
   ]
  },
  {
   "cell_type": "code",
   "execution_count": 5,
   "metadata": {},
   "outputs": [],
   "source": [
    "# we need to create n observations at the fiducial point\n",
    "# then, we calculate their mean and covariance matrix for now\n",
    "\n",
    "n_vec = 50 # number of components of the data\n",
    "d_vec = []\n",
    "for _ in range(n):\n",
    "    d_vec.append([np.random.lognormal(q_fid, (i+1)/(n_vec*100.0), 1) for i in range(n_vec)])\n",
    "\n",
    "d_vec = np.reshape(np.asarray(d_vec), [-1, n_vec])\n",
    "mu = np.mean(d_vec, axis=0)\n",
    "cov = np.cov(d_vec, rowvar=False)\n",
    "Cinv = np.linalg.inv(cov)\n",
    "\n",
    "# then we also measure the derivative, which means\n",
    "# we define a small step h, and calculate the difference in the mean\n",
    "# with respect to that step\n",
    "\n",
    "h = 0.01\n",
    "q_fid_p = q_fid + h\n",
    "d_vec_p = []\n",
    "for _ in range(n):\n",
    "    d_vec_p.append([np.random.lognormal(q_fid_p, (i+1)/(n_vec*100.0), 1) for i in range(n_vec)])\n",
    "    \n",
    "# we also create the data corresponding to fixed noise, at the fiducial q\n",
    "d_vec_q_shift = []\n",
    "for _ in range(1):\n",
    "    np.random.seed(13)\n",
    "    d_vec_q_shift.append([np.random.lognormal(q_fid, (i/n_vec)/100.0, 1) for i in range(n_vec)])\n",
    "\n",
    "d_vec_p = np.reshape(np.asarray(d_vec_p), [-1, n_vec])\n",
    "d_vec_q_shift = np.reshape(np.asarray(d_vec_q_shift), [-1, n_vec])\n",
    "mu_p = np.mean(d_vec_p, axis=0)\n",
    "dmudt = mu_p - mu\n",
    "dmudt = np.reshape(dmudt, [1, -1])"
   ]
  },
  {
   "cell_type": "code",
   "execution_count": 6,
   "metadata": {},
   "outputs": [],
   "source": [
    "# now we define the score compression\n",
    "Compressor = score.Gaussian(n_vec, q_fid, mu = mu, Cinv = Cinv, dmudt = dmudt)\n",
    "Compressor.compute_fisher()\n",
    "Finv = Compressor.Finv\n",
    "\n",
    "def compressor(d, compressor_args=None):\n",
    "    return Compressor.scoreMLE(d)\n",
    "compressor_args=None"
   ]
  },
  {
   "cell_type": "code",
   "execution_count": 7,
   "metadata": {},
   "outputs": [
    {
     "name": "stdout",
     "output_type": "stream",
     "text": [
      "(1000, 50) (1000, 50) (1, 50)\n"
     ]
    }
   ],
   "source": [
    "# we now create the data needed for the normalising flow\n",
    "# we create the observed data point, for now at the fiducial value of q\n",
    "q_fid = 0.2  # new observation, different from the compression\n",
    "d_vec_obs = []\n",
    "for _ in range(1):\n",
    "    d_vec_obs.append([np.random.lognormal(q_fid, (i/n_vec)/100.0, 1) for i in range(n_vec)])\n",
    "\n",
    "# we also create the data corresponding to a fixed noise, but different q\n",
    "d_vec_q = []\n",
    "for q in q_prior:\n",
    "    np.random.seed(13)\n",
    "    d_vec_q.append([np.random.lognormal(q, (i/n_vec)/100.0, 1) for i in range(n_vec)])\n",
    "    \n",
    "d_vec_obs = np.reshape(np.asarray(d_vec_obs), [-1, n_vec])\n",
    "d_vec_obs_keep = np.copy(d_vec_obs)\n",
    "d_vec_q = np.reshape(np.asarray(d_vec_q), [-1, n_vec])\n",
    "print(d_vec.shape, d_vec_q.shape, d_vec_obs.shape)"
   ]
  },
  {
   "cell_type": "code",
   "execution_count": 8,
   "metadata": {},
   "outputs": [
    {
     "data": {
      "image/png": "[encoded data removed]",
      "text/plain": [
       "<Figure size 720x1080 with 1 Axes>"
      ]
     },
     "metadata": {
      "needs_background": "light"
     },
     "output_type": "display_data"
    }
   ],
   "source": [
    "# we plot a few things to make sure everything is good\n",
    "plt.figure(figsize=(10, 15))\n",
    "for index in range(100):\n",
    "    plt.plot(np.arange(n_vec), d_vec[index], color='k')\n",
    "    #plt.semilogy(np.arange(n_vec), d_vec_q[index], label=q_prior[index])\n",
    "for index in range(900, 920):\n",
    "    #plt.semilogy(np.arange(n_vec), np.mean(d_vec[index::n_class], axis=0), label=q_prior[index])\n",
    "    #plt.plot(np.arange(n_vec), d_vec_q_posterior[index], label=q_posterior[index])\n",
    "    plt.plot(np.arange(n_vec), d_vec_q[index], label=q_prior[index])\n",
    "plt.plot(np.arange(n_vec), d_vec_q_shift[0], label='Fiducial FN')\n",
    "plt.legend();"
   ]
  },
  {
   "cell_type": "code",
   "execution_count": 9,
   "metadata": {},
   "outputs": [],
   "source": [
    "# we test here whether it could be better to gaussianise data\n",
    "# which are not at the fiducial point of the score compression\n",
    "#d_vec = []\n",
    "#for _ in range(n):\n",
    "#    d_vec.append([np.random.lognormal(0.2, (i+1)/(n_vec*100.0), 1) for i in range(n_vec)])\n",
    "#d_vec = np.reshape(np.asarray(d_vec), [-1, n_vec])\n",
    "\n",
    "# we also create the data corresponding to fixed noise, at the fiducial q\n",
    "#d_vec_q_shift = []\n",
    "#for _ in range(1):\n",
    "#    np.random.seed(13)\n",
    "#    d_vec_q_shift.append([np.random.lognormal(0.2, (i/n_vec)/100.0, 1) for i in range(n_vec)])\n",
    "\n",
    "#d_vec_q_shift = np.reshape(np.asarray(d_vec_q_shift), [-1, n_vec])\n",
    "\n",
    "#d_vec_keep_copy = np.copy(d_vec)\n",
    "#d_vec_shift_keep_copy = np.copy(d_vec_q_shift)\n",
    "\n",
    "d_vec = []\n",
    "for _ in range(n):\n",
    "    d_vec.append([np.random.lognormal(0.5, (i+1)/(n_vec*100.0), 1) for i in range(n_vec)])\n",
    "    \n",
    "d_vec = np.reshape(np.asarray(d_vec), [-1, n_vec])\n",
    "\n",
    "# we also create the data corresponding to fixed noise, at the fiducial q\n",
    "d_vec_q_shift = []\n",
    "for _ in range(1):\n",
    "    np.random.seed(13)\n",
    "    d_vec_q_shift.append([np.random.lognormal(0.5, (i/n_vec)/100.0, 1) for i in range(n_vec)])\n",
    "\n",
    "d_vec_q_shift = np.reshape(np.asarray(d_vec_q_shift), [-1, n_vec])\n"
   ]
  },
  {
   "cell_type": "code",
   "execution_count": 10,
   "metadata": {},
   "outputs": [],
   "source": [
    "# we need to retrieve all the needed summaries here, so:\n",
    "# 1) the summaries of the fixed noise vectors\n",
    "# 2) the summary of the observation\n",
    "# 3) the summaries of the noise realisations at the fiducial point\n",
    "# 4) the summary of the shift vector, i.e. the fixed noise at the fiducial value\n",
    "summaries_posterior = []\n",
    "for index in range(n_sims):\n",
    "    summaries_posterior.append(compressor(d_vec_q[index]))  # it should be around 0.2, but just for display purpose\n",
    "summaries_posterior = np.asarray(summaries_posterior)\n",
    "summaries_noise = []\n",
    "for index in range(n):\n",
    "    summaries_noise.append(compressor(d_vec[index]))  # it should be at 0.5\n",
    "summaries_noise = np.asarray(summaries_noise)\n",
    "#summaries_noise_kept = []\n",
    "#for index in range(n):\n",
    "#    summaries_noise_kept.append(compressor(d_vec_keep_copy[index]))\n",
    "#summaries_noise_kept = np.asarray(summaries_noise_kept)\n",
    "summary_obs = compressor(d_vec_obs[0])  # it should be at 0.2\n",
    "summary_obs = np.reshape(summary_obs, [1, 1])\n",
    "summary_shift = compressor(d_vec_q_shift[0])  # it should be at 0.5\n",
    "summary_shift = np.reshape(summary_shift, [1, 1])\n",
    "#summary_shift_kept = compressor(d_vec_shift_keep_copy[0])\n",
    "#summary_shift_kept = np.reshape(summary_shift_kept, [1, 1])"
   ]
  },
  {
   "cell_type": "code",
   "execution_count": 11,
   "metadata": {},
   "outputs": [],
   "source": [
    "# now we plot a few things to make sure everything makes sense"
   ]
  },
  {
   "cell_type": "code",
   "execution_count": 12,
   "metadata": {
    "scrolled": false
   },
   "outputs": [
    {
     "data": {
      "image/png": "[encoded data removed]",
      "text/plain": [
       "<Figure size 432x288 with 1 Axes>"
      ]
     },
     "metadata": {
      "needs_background": "light"
     },
     "output_type": "display_data"
    }
   ],
   "source": [
    "# first we plot the distribution of the noisy summaries\n",
    "bins = 30\n",
    "plt.hist(summaries_noise, bins=bins, histtype='step');"
   ]
  },
  {
   "cell_type": "code",
   "execution_count": 13,
   "metadata": {},
   "outputs": [
    {
     "data": {
      "image/png": "[encoded data removed]",
      "text/plain": [
       "<Figure size 432x288 with 1 Axes>"
      ]
     },
     "metadata": {
      "needs_background": "light"
     },
     "output_type": "display_data"
    }
   ],
   "source": [
    "# we also check if the observation is within the summaries of the fiducial noisy data\n",
    "bins = 30\n",
    "plt.hist(summaries_noise, bins=bins, histtype='step')\n",
    "plt.scatter(summary_obs, np.zeros(1));"
   ]
  },
  {
   "cell_type": "code",
   "execution_count": 14,
   "metadata": {},
   "outputs": [
    {
     "data": {
      "text/plain": [
       "<matplotlib.collections.PathCollection at 0x190c90e39b0>"
      ]
     },
     "execution_count": 14,
     "metadata": {},
     "output_type": "execute_result"
    },
    {
     "data": {
      "image/png": "[encoded data removed]",
      "text/plain": [
       "<Figure size 432x288 with 1 Axes>"
      ]
     },
     "metadata": {
      "needs_background": "light"
     },
     "output_type": "display_data"
    }
   ],
   "source": [
    "# we also check if the shift FN is within the summaries of the fiducial noisy data\n",
    "bins = 30\n",
    "plt.hist(summaries_noise, bins=bins, histtype='step')\n",
    "plt.scatter(summary_shift, np.zeros(1))"
   ]
  },
  {
   "cell_type": "code",
   "execution_count": 17,
   "metadata": {},
   "outputs": [
    {
     "data": {
      "image/png": "[encoded data removed]",
      "text/plain": [
       "<Figure size 432x288 with 1 Axes>"
      ]
     },
     "metadata": {
      "needs_background": "light"
     },
     "output_type": "display_data"
    }
   ],
   "source": [
    "# and finally we look at the \"posterior distribution\"\n",
    "# then we plot the distribution of the noisy summaries with all the FN summaries\n",
    "for index in range(n_sims):\n",
    "    plt.scatter(summaries_posterior[index], np.zeros(1))"
   ]
  },
  {
   "cell_type": "markdown",
   "metadata": {},
   "source": [
    "# Gaussianisation of the latent space\n",
    "\n",
    "At this stage, we finally need to set up the NF between the obtaines sample of summaries, in order to have the bijection to that space. We will use Inverse Autoregressive Flows (IAFs)."
   ]
  },
  {
   "cell_type": "code",
   "execution_count": 15,
   "metadata": {},
   "outputs": [
    {
     "name": "stdout",
     "output_type": "stream",
     "text": [
      "WARNING:tensorflow:From <ipython-input-15-f0a855adfd5f>:14: DatasetV1.make_one_shot_iterator (from tensorflow.python.data.ops.dataset_ops) is deprecated and will be removed in a future version.\n",
      "Instructions for updating:\n",
      "Use `for ... in dataset:` to iterate over a dataset. If using `tf.estimator`, return the `Dataset` object directly from your input function. As a last resort, you can use `tf.compat.v1.data.make_one_shot_iterator(dataset)`.\n"
     ]
    }
   ],
   "source": [
    "# we define a few variables here, and reset the graph\n",
    "DTYPE=tf.float32\n",
    "NP_DTYPE=np.float32\n",
    "tf.reset_default_graph()\n",
    "batch_size = 128\n",
    "num_bijectors = 8\n",
    "\n",
    "# we transform the summaries to a TF dataset object\n",
    "dataset = tf.data.Dataset.from_tensor_slices(summaries_noise.astype(NP_DTYPE))\n",
    "dataset = dataset.repeat()\n",
    "dataset = dataset.shuffle(buffer_size=summaries_noise.shape[0])\n",
    "dataset = dataset.prefetch(3 * batch_size)\n",
    "dataset = dataset.batch(batch_size)\n",
    "data_iterator = dataset.make_one_shot_iterator()\n",
    "x_samples = data_iterator.get_next()"
   ]
  },
  {
   "cell_type": "code",
   "execution_count": 16,
   "metadata": {},
   "outputs": [],
   "source": [
    "# this is the distribution to match\n",
    "#base_dist = tfd.Normal(loc=0.0, scale=1.0)\n",
    "base_dist = tfd.MultivariateNormalDiag(loc=tf.zeros([1], DTYPE))"
   ]
  },
  {
   "cell_type": "code",
   "execution_count": 17,
   "metadata": {},
   "outputs": [],
   "source": [
    "# we define the flow here\n",
    "bijectors = []\n",
    "for i in range(num_bijectors):\n",
    "    bijectors.append(tfb.Invert(tfb.MaskedAutoregressiveFlow(\n",
    "            shift_and_log_scale_fn=tfb.masked_autoregressive_default_template(\n",
    "                hidden_layers=[1024, 1024]))))\n",
    "    bijectors.append(tfb.Permute(permutation=[0]))\n",
    "# discard the last Permute layer.\n",
    "flow_bijector = tfb.Chain(list(reversed(bijectors[:-1])))"
   ]
  },
  {
   "cell_type": "code",
   "execution_count": 18,
   "metadata": {},
   "outputs": [],
   "source": [
    "# this is the transformed distribution, i.e. the distribution of the summaries\n",
    "dist = tfd.TransformedDistribution(\n",
    "            distribution=base_dist,\n",
    "            bijector=flow_bijector)"
   ]
  },
  {
   "cell_type": "code",
   "execution_count": 19,
   "metadata": {},
   "outputs": [
    {
     "name": "stdout",
     "output_type": "stream",
     "text": [
      "WARNING:tensorflow:From c:\\users\\david\\anaconda3\\envs\\tensorflow\\lib\\site-packages\\tensorflow_probability\\python\\bijectors\\masked_autoregressive.py:450: Layer.apply (from tensorflow.python.keras.engine.base_layer) is deprecated and will be removed in a future version.\n",
      "Instructions for updating:\n",
      "Please use `layer.__call__` method instead.\n"
     ]
    }
   ],
   "source": [
    "# optimisation\n",
    "loss = -tf.reduce_mean(dist.log_prob(x_samples))\n",
    "train_op = tf.train.AdamOptimizer(1e-3).minimize(loss)"
   ]
  },
  {
   "cell_type": "code",
   "execution_count": null,
   "metadata": {},
   "outputs": [
    {
     "name": "stdout",
     "output_type": "stream",
     "text": [
      "0 273.1805\n",
      "500 10.650679\n",
      "1000 4.575108\n",
      "1500 3.4452128\n",
      "2000 3.1645265\n",
      "2500 3.0674236\n",
      "3000 2.9931602\n",
      "3500 2.9059854\n",
      "4000 2.799438\n",
      "4500 2.6708455\n",
      "5000 2.5170147\n",
      "5500 2.3335905\n",
      "6000 2.113862\n",
      "6500 1.845991\n",
      "7000 1.5089859\n",
      "7500 1.066822\n",
      "8000 0.45950514\n",
      "8500 -0.39938575\n",
      "9000 -1.4454087\n",
      "9500 -2.2122736\n",
      "10000 -2.6249776\n",
      "10500 -2.72652\n",
      "11000 -2.7816584\n",
      "11500 -2.9240637\n",
      "12000 -2.8168104\n",
      "12500 -2.7344103\n",
      "13000 -3.0423422\n",
      "13500 -2.8269038\n",
      "14000 -2.8973205\n",
      "14500 -2.995152\n",
      "15000 -2.9779944\n",
      "15500 -2.9508872\n",
      "16000 -2.8630164\n",
      "16500 -2.933978\n",
      "17000 -2.938251\n",
      "17500 -2.9237418\n"
     ]
    }
   ],
   "source": [
    "# and finally we train the NF as well\n",
    "sess = tf.Session()\n",
    "sess.run(tf.global_variables_initializer())\n",
    "NUM_STEPS = 20000#int(settings[TARGET_DENSITY]['train_iters'])\n",
    "global_step = []\n",
    "losses = []\n",
    "for i in range(NUM_STEPS):\n",
    "    _, np_loss = sess.run([train_op, loss])\n",
    "    if i % 10 == 0:\n",
    "        global_step.append(i)\n",
    "        losses.append(np_loss)\n",
    "        #g_losses.append(gl)\n",
    "    if i % int(5e2) == 0:\n",
    "        print(i, np_loss)\n",
    "start = 0\n",
    "plt.plot(global_step, losses[start:])"
   ]
  },
  {
   "cell_type": "code",
   "execution_count": null,
   "metadata": {},
   "outputs": [],
   "source": [
    "# now we need to look at samples which we inject in the flow to the Gaussian domain\n",
    "# just to make sure the gaussianisation was successful"
   ]
  },
  {
   "cell_type": "code",
   "execution_count": null,
   "metadata": {},
   "outputs": [],
   "source": [
    "# we look at the flow injection, which corresponds to the inverse pass\n",
    "x = x_samples\n",
    "samples = [x]\n",
    "names = [base_dist.name]\n",
    "for bijector in dist.bijector.bijectors:\n",
    "    x = bijector.inverse(x)\n",
    "    samples.append(x)\n",
    "    names.append(bijector.name)\n",
    "samples_plot = [samples[0], samples[-1], base_dist.sample(128)]\n",
    "names=['Latent', 'Mapped latent', 'Original Gaussian']"
   ]
  },
  {
   "cell_type": "code",
   "execution_count": null,
   "metadata": {},
   "outputs": [],
   "source": [
    "noise_flow = sess.run(samples_plot)\n",
    "f, arr = plt.subplots(1, len(noise_flow), figsize=(4 * (len(noise_flow)), 4))\n",
    "X0 = noise_flow[0]\n",
    "for i in range(len(noise_flow)):\n",
    "    X1 = noise_flow[i]\n",
    "    arr[i].scatter(X1, np.zeros_like(X1), s=10)\n",
    "    arr[i].set_title(names[i])"
   ]
  },
  {
   "cell_type": "code",
   "execution_count": null,
   "metadata": {},
   "outputs": [],
   "source": [
    "print(noise_flow[0].mean())\n",
    "print(noise_flow[1].mean())\n",
    "print(noise_flow[2].mean())\n",
    "print(noise_flow[0].std())\n",
    "print(noise_flow[1].std())\n",
    "print(noise_flow[2].std())"
   ]
  },
  {
   "cell_type": "code",
   "execution_count": 28,
   "metadata": {},
   "outputs": [],
   "source": [
    "# we need to inject all of the summaries\n",
    "# in order to do that, we create many Dataset objects\n",
    "# we need to transform the the FN vectors, the observation, and the posterior points\n",
    "dataset = tf.data.Dataset.from_tensor_slices(summary_obs.astype(NP_DTYPE))\n",
    "dataset = dataset.repeat()\n",
    "dataset = dataset.prefetch(3 * 1)\n",
    "dataset = dataset.batch(1)\n",
    "data_iterator = dataset.make_one_shot_iterator()\n",
    "x_samples_obs = data_iterator.get_next()"
   ]
  },
  {
   "cell_type": "code",
   "execution_count": 29,
   "metadata": {},
   "outputs": [],
   "source": [
    "# we need to inject all of the summaries\n",
    "# in order to do that, we create many Dataset objects\n",
    "# we need to transform the the FN vectors, the observation, and the posterior points\n",
    "dataset = tf.data.Dataset.from_tensor_slices(summaries_posterior.astype(NP_DTYPE))\n",
    "dataset = dataset.repeat()\n",
    "dataset = dataset.prefetch(3 * n_sims)\n",
    "dataset = dataset.batch(n_sims)\n",
    "data_iterator = dataset.make_one_shot_iterator()\n",
    "x_samples_posterior = data_iterator.get_next()"
   ]
  },
  {
   "cell_type": "code",
   "execution_count": 37,
   "metadata": {},
   "outputs": [],
   "source": [
    "# we inject the shift as well\n",
    "dataset = tf.data.Dataset.from_tensor_slices(summary_shift.astype(NP_DTYPE))\n",
    "dataset = dataset.repeat()\n",
    "dataset = dataset.prefetch(3 * 1)\n",
    "dataset = dataset.batch(1)\n",
    "data_iterator = dataset.make_one_shot_iterator()\n",
    "x_samples_shift = data_iterator.get_next()"
   ]
  },
  {
   "cell_type": "code",
   "execution_count": 38,
   "metadata": {},
   "outputs": [],
   "source": [
    "# we inject the FN observation in the flow, since we need the fiducial one for the posterior evaluation\n",
    "x = x_samples_shift\n",
    "samples = [x]\n",
    "for bijector in dist.bijector.bijectors:\n",
    "    x = bijector.inverse(x)\n",
    "    samples.append(x)\n",
    "shift_flow_ = samples[-1]\n",
    "shift = sess.run(shift_flow_)"
   ]
  },
  {
   "cell_type": "code",
   "execution_count": 39,
   "metadata": {},
   "outputs": [
    {
     "data": {
      "text/plain": [
       "array([[-12.069053]], dtype=float32)"
      ]
     },
     "execution_count": 39,
     "metadata": {},
     "output_type": "execute_result"
    }
   ],
   "source": [
    "shift"
   ]
  },
  {
   "cell_type": "code",
   "execution_count": 40,
   "metadata": {},
   "outputs": [],
   "source": [
    "# we inject the posterior points\n",
    "x = x_samples_posterior\n",
    "samples = [x]\n",
    "for bijector in dist.bijector.bijectors:\n",
    "    x = bijector.inverse(x)\n",
    "    samples.append(x)\n",
    "posterior_points_ = samples[-1]\n",
    "posterior_points = sess.run(posterior_points_)"
   ]
  },
  {
   "cell_type": "code",
   "execution_count": 54,
   "metadata": {},
   "outputs": [
    {
     "name": "stdout",
     "output_type": "stream",
     "text": [
      "[]\n"
     ]
    }
   ],
   "source": [
    "# check that there are no duplicates\n",
    "posterior_points__ = list(np.reshape(posterior_points, [-1]))\n",
    "\n",
    "import collections\n",
    "print ([item for item, count in collections.Counter(posterior_points__).items() if count > 1])"
   ]
  },
  {
   "cell_type": "code",
   "execution_count": 41,
   "metadata": {},
   "outputs": [],
   "source": [
    "# we need to shift the posterior points as we want the mean to be captured, and they have fixed noise\n",
    "posterior_points_mu = posterior_points - shift[0][0]"
   ]
  },
  {
   "cell_type": "code",
   "execution_count": 42,
   "metadata": {},
   "outputs": [],
   "source": [
    "# finally, we try to evaluate the posterior\n",
    "# we first inject the observation in the flow as well\n",
    "x = x_samples_obs\n",
    "samples = [x]\n",
    "for bijector in dist.bijector.bijectors:\n",
    "    x = bijector.inverse(x)\n",
    "    samples.append(x)\n",
    "observation_ = samples[-1]\n",
    "compressed_obs = sess.run(observation_)"
   ]
  },
  {
   "cell_type": "code",
   "execution_count": 43,
   "metadata": {},
   "outputs": [
    {
     "data": {
      "text/plain": [
       "-22.608093"
      ]
     },
     "execution_count": 43,
     "metadata": {},
     "output_type": "execute_result"
    }
   ],
   "source": [
    "compressed_obs[0][0]"
   ]
  },
  {
   "cell_type": "code",
   "execution_count": 44,
   "metadata": {},
   "outputs": [],
   "source": [
    "# finally we evaluate the likelihood\n",
    "from scipy.stats import norm as normal\n",
    "likelihood_arr = np.zeros((n_sims, 2))\n",
    "for index, mu in enumerate(posterior_points_mu):\n",
    "    like_value = normal.pdf(compressed_obs[0][0], loc=mu, scale=1)\n",
    "    likelihood_arr[index, :] = q_posterior[index], like_value\n"
   ]
  },
  {
   "cell_type": "code",
   "execution_count": 45,
   "metadata": {},
   "outputs": [],
   "source": [
    "likelihood_arr[:, 1] = likelihood_arr[:, 1]/likelihood_arr[:, 1].sum()"
   ]
  },
  {
   "cell_type": "code",
   "execution_count": 46,
   "metadata": {},
   "outputs": [
    {
     "data": {
      "text/plain": [
       "array([1.22140276, 1.22132149, 1.22121494, 1.22101417, 1.22272289,\n",
       "       1.22386664, 1.22131844, 1.22236868, 1.22210557, 1.22027771,\n",
       "       1.22012544, 1.22010996, 1.21577535, 1.21899972, 1.22295462,\n",
       "       1.2247871 , 1.2205926 , 1.21984265, 1.2242196 , 1.23097192,\n",
       "       1.21687568, 1.21743529, 1.21905572, 1.22448509, 1.2164054 ,\n",
       "       1.22424985, 1.21683205, 1.22511683, 1.21925107, 1.2183611 ,\n",
       "       1.22739001, 1.21245885, 1.21540917, 1.22729492, 1.22778066,\n",
       "       1.2231807 , 1.2023197 , 1.22794562, 1.22464439, 1.21818102,\n",
       "       1.20254107, 1.22975311, 1.2394821 , 1.2266781 , 1.23578549,\n",
       "       1.21419626, 1.22348275, 1.21395068, 1.2083347 , 1.217261  ])"
      ]
     },
     "execution_count": 46,
     "metadata": {},
     "output_type": "execute_result"
    }
   ],
   "source": [
    "d_vec_obs_keep[0]"
   ]
  },
  {
   "cell_type": "code",
   "execution_count": 47,
   "metadata": {},
   "outputs": [],
   "source": [
    "# now we need to plot all of this\n",
    "# we first calculate the real posterior, and the one obtained from the data\n",
    "\n",
    "def lognorm(data, mean, sigma):\n",
    "    pref = data*np.sqrt(2*np.pi) * sigma\n",
    "    expo = np.exp(-(np.log(data)-mean)**2 / (2*sigma**2))\n",
    "    return expo/pref\n",
    "\n",
    "def real_post(sigma, mean, obs):\n",
    "    pref = obs*np.sqrt(2*np.pi) * sigma\n",
    "    expo = np.exp(-(np.log(obs)-mean)**2 / (2*sigma**2))\n",
    "    evidence = 1 #inc_gamma(0, np.log(obs)**2 / 2) / (2*obs*np.sqrt(2*np.pi))\n",
    "    return (expo/pref)/(evidence)\n",
    "\n",
    "def find_level(nums, level):\n",
    "    sum = 0\n",
    "    for num in nums:\n",
    "        sum += num\n",
    "        if sum > level:\n",
    "            return num\n",
    "\n",
    "real_posterior = 1\n",
    "q_real = q_posterior[:]\n",
    "for i, d in enumerate(d_vec_obs_keep[0]):\n",
    "    real_posterior *= real_post((i+1)/(n_vec*100.0), q_real, d)\n",
    "\n",
    "real_posterior = real_posterior / real_posterior.sum()\n",
    "\n",
    "indexs_to_order_by = q_real.argsort()\n",
    "q_real = q_real[indexs_to_order_by]\n",
    "real_posterior = real_posterior[indexs_to_order_by]\n",
    "\n",
    "posterior = []\n",
    "for value in q_posterior:\n",
    "    likelihood = 1\n",
    "    for i, d in enumerate(d_vec_obs_keep[0]):\n",
    "        likelihood *= lognorm(d, value, (i+1)/(n_vec*100.0))\n",
    "    posterior.append(likelihood)\n",
    "\n",
    "posterior = np.reshape(np.asarray(posterior), [n_sims])\n",
    "# order points by their x-value\n",
    "indexs_to_order_by = q_posterior.argsort()\n",
    "q_posterior = q_posterior[indexs_to_order_by]\n",
    "posterior = posterior[indexs_to_order_by]\n",
    "\n",
    "# normalise output\n",
    "normalisation = np.sum(posterior)\n",
    "posterior = np.asarray(posterior)/normalisation\n",
    "\n",
    "# we want to draw 68% confidence intervals here, and we start by\n",
    "# finding the level corresponding to that\n",
    "sorted_posterior = sorted(posterior, reverse=True)\n",
    "# we should now start summing the elements in this sorted list,\n",
    "# and stop when we reach the desired level, usually 68 or 95\n",
    "req_level = 0.68\n",
    "level = find_level(sorted_posterior, req_level)\n",
    "rep_level = [level]*n_sims\n",
    "condition = np.where(posterior >= rep_level, 1, -1)\n",
    "try:\n",
    "    id1, id2 = np.argwhere(np.diff(condition)).flatten()\n",
    "except:\n",
    "    id1, id2 = 0, 0\n"
   ]
  },
  {
   "cell_type": "code",
   "execution_count": 51,
   "metadata": {},
   "outputs": [
    {
     "data": {
      "text/plain": [
       "(0.199, 0.201)"
      ]
     },
     "execution_count": 51,
     "metadata": {},
     "output_type": "execute_result"
    },
    {
     "data": {
      "image/png": "[encoded data removed]",
      "text/plain": [
       "<Figure size 432x288 with 1 Axes>"
      ]
     },
     "metadata": {
      "needs_background": "light"
     },
     "output_type": "display_data"
    }
   ],
   "source": [
    "plt.plot(q_real, real_posterior, c='k', label='Theoretical')\n",
    "plt.plot(q_posterior, posterior, linestyle='--', label='Estimated')\n",
    "#plt.fill_between(q_posterior[id1:id2+1], posterior[id1:id2+1],  alpha=0.5, color='C0')\n",
    "plt.axvline(q_fid, linestyle='--', color='r')\n",
    "max_est = q_posterior[np.argmax(posterior)]\n",
    "upp_bound = q_posterior[id2] - max_est\n",
    "low_bound = max_est - q_posterior[id1]\n",
    "\n",
    "# from the ML, with the corresponding error\n",
    "# confidence levels of the generated one\n",
    "sorted_posterior = sorted(likelihood_arr[:, 1], reverse=True)\n",
    "level = find_level(sorted_posterior, req_level)\n",
    "rep_level = [level]*n_sims\n",
    "try:\n",
    "    condition = np.where(likelihood_arr[:, 1] >= rep_level, 1, -1)\n",
    "    id1, id2 = np.argwhere(np.diff(condition)).flatten()\n",
    "except:\n",
    "    id1, id2 = 0, 0\n",
    "plt.plot(likelihood_arr[:, 0], likelihood_arr[:, 1], linestyle='-.', label='Generated')\n",
    "#plt.fill_between(likelihood_arr[id1:id2+1, 0], likelihood_arr[id1:id2+1, 1], alpha=0.5, color='C1')\n",
    "max_est_gen = likelihood_arr[:, 0][np.argmax(likelihood_arr[:, 1])]\n",
    "upp_bound_gen = likelihood_arr[:, 0][id2] - max_est_gen\n",
    "low_bound_gen = max_est_gen - likelihood_arr[:, 0][id1]\n",
    "plt.title(f'{max_est:.4f} $ ^{{ + {upp_bound:.4f} }}$ $ _{{ - {low_bound:.4f} }}$ vs {max_est_gen:.4f} $ ^{{ + {upp_bound_gen:.4f} }}$ $ _{{ - {low_bound_gen:.4f} }}$')\n",
    "plt.legend()\n",
    "plt.xlim([0.1990, 0.201])"
   ]
  },
  {
   "cell_type": "code",
   "execution_count": null,
   "metadata": {},
   "outputs": [],
   "source": []
  },
  {
   "cell_type": "code",
   "execution_count": 23,
   "metadata": {},
   "outputs": [],
   "source": [
    "# separate test for this case"
   ]
  },
  {
   "cell_type": "code",
   "execution_count": 41,
   "metadata": {},
   "outputs": [],
   "source": [
    "def manual_gauss(data):\n",
    "    return (data - summaries_noise.mean()) / summaries_noise.std()\n",
    "\n",
    "noise_flow = manual_gauss(summaries_noise)\n",
    "noise_flow_kept = manual_gauss(summaries_noise_kept)\n",
    "compressed_obs = manual_gauss(summary_obs)\n",
    "posterior_points = manual_gauss(summaries_posterior)\n",
    "shift = manual_gauss(summary_shift)\n",
    "posterior_points_mu = posterior_points  - shift\n",
    "shift_kept = manual_gauss(summary_shift_kept)\n",
    "posterior_point_mu_kept = shift_kept - shift"
   ]
  },
  {
   "cell_type": "code",
   "execution_count": 42,
   "metadata": {},
   "outputs": [
    {
     "name": "stdout",
     "output_type": "stream",
     "text": [
      "1.4764722777727e-13\n",
      "1.0\n"
     ]
    }
   ],
   "source": [
    "print(noise_flow.mean())\n",
    "print(noise_flow.std())"
   ]
  },
  {
   "cell_type": "code",
   "execution_count": 43,
   "metadata": {},
   "outputs": [
    {
     "name": "stdout",
     "output_type": "stream",
     "text": [
      "-1560.464529571739\n",
      "-1560.3625998472355\n",
      "0.7408182206816761\n"
     ]
    }
   ],
   "source": [
    "print(posterior_point_mu_kept[0][0])\n",
    "print(noise_flow_kept.mean())\n",
    "print(noise_flow_kept.std())"
   ]
  },
  {
   "cell_type": "code",
   "execution_count": 27,
   "metadata": {},
   "outputs": [
    {
     "data": {
      "text/plain": [
       "array([[1927.15088752]])"
      ]
     },
     "execution_count": 27,
     "metadata": {},
     "output_type": "execute_result"
    }
   ],
   "source": [
    "compressed_obs"
   ]
  },
  {
   "cell_type": "code",
   "execution_count": 28,
   "metadata": {},
   "outputs": [],
   "source": [
    "# finally we evaluate the likelihood\n",
    "from scipy.stats import norm as normal\n",
    "likelihood_arr = np.zeros((n_sims, 2))\n",
    "for index, mu in enumerate(posterior_points_mu):\n",
    "    like_value = normal.pdf(compressed_obs[0][0], loc=mu, scale=1)\n",
    "    likelihood_arr[index, :] = q_posterior[index], like_value\n",
    "likelihood_arr[:, 1] = likelihood_arr[:, 1]/likelihood_arr[:, 1].sum()"
   ]
  },
  {
   "cell_type": "code",
   "execution_count": 29,
   "metadata": {},
   "outputs": [],
   "source": [
    "# now we need to plot all of this\n",
    "# we first calculate the real posterior, and the one obtained from the data\n",
    "from scipy.stats import lognorm\n",
    "\n",
    "def lognorm_(data, mean, sigma):\n",
    "    if sigma == 0:\n",
    "        return np.exp(mean)\n",
    "    pref = data*np.sqrt(2*np.pi) * sigma\n",
    "    expo = np.exp(-(np.log(data)-mean)**2 / (2*sigma**2))\n",
    "    return expo/pref\n",
    "\n",
    "def real_post(sigma, mean, obs):\n",
    "    if sigma == 0:\n",
    "        return np.exp(mean)\n",
    "    pref = obs*np.sqrt(2*np.pi) * sigma\n",
    "    expo = np.exp(-(np.log(obs)-mean)**2 / (2*sigma**2))\n",
    "    evidence = 1 #inc_gamma(0, np.log(obs)**2 / 2) / (2*obs*np.sqrt(2*np.pi))\n",
    "    return (expo/pref)/(evidence)\n",
    "\n",
    "def find_level(nums, level):\n",
    "    sum = 0\n",
    "    for num in nums:\n",
    "        sum += num\n",
    "        if sum > level:\n",
    "            return num\n",
    "\n",
    "q_real = q_posterior[:]\n",
    "real_posterior = []\n",
    "for q in q_real:\n",
    "    real_posterior_ = 1\n",
    "    for i, d in enumerate(d_vec_obs_keep[0]):\n",
    "        real_posterior_ *= lognorm.pdf(d, s=(i+1)/(n_vec*100.0), loc=0, scale=np.exp(q))\n",
    "    real_posterior.append(real_posterior_)\n",
    "\n",
    "real_posterior = np.reshape(np.asarray(real_posterior), [n_sims])\n",
    "real_posterior = real_posterior / real_posterior.sum()\n",
    "\n",
    "indexs_to_order_by = q_real.argsort()\n",
    "q_real = q_real[indexs_to_order_by]\n",
    "real_posterior = real_posterior[indexs_to_order_by]\n",
    "\n",
    "posterior = []\n",
    "for value in q_posterior:\n",
    "    likelihood = 1\n",
    "    for i, d in enumerate(d_vec_obs_keep[0]):\n",
    "        #likelihood *= lognorm(d, value, (i)/(n_vec*100.0))\n",
    "        likelihood *= lognorm.pdf(d, s=(i+1)/(n_vec*100.0), loc=0, scale=np.exp(value))\n",
    "    posterior.append(likelihood)\n",
    "\n",
    "posterior = np.reshape(np.asarray(posterior), [n_sims])\n",
    "# order points by their x-value\n",
    "indexs_to_order_by = q_posterior.argsort()\n",
    "q_posterior = q_posterior[indexs_to_order_by]\n",
    "posterior = posterior[indexs_to_order_by]\n",
    "\n",
    "# normalise output\n",
    "normalisation = np.sum(posterior)\n",
    "posterior = np.asarray(posterior)/normalisation\n",
    "\n",
    "# we want to draw 68% confidence intervals here, and we start by\n",
    "# finding the level corresponding to that\n",
    "sorted_posterior = sorted(posterior, reverse=True)\n",
    "# we should now start summing the elements in this sorted list,\n",
    "# and stop when we reach the desired level, usually 68 or 95\n",
    "req_level = 0.68\n",
    "level = find_level(sorted_posterior, req_level)\n",
    "rep_level = [level]*n_sims\n",
    "try:\n",
    "    condition = np.where(posterior >= rep_level, 1, -1)\n",
    "    id1, id2 = np.argwhere(np.diff(condition)).flatten()\n",
    "except:\n",
    "    id1, id2 = 0, 0"
   ]
  },
  {
   "cell_type": "code",
   "execution_count": 34,
   "metadata": {},
   "outputs": [
    {
     "data": {
      "text/plain": [
       "(0.777, 0.7785)"
      ]
     },
     "execution_count": 34,
     "metadata": {},
     "output_type": "execute_result"
    },
    {
     "data": {
      "image/png": "[encoded data removed]",
      "text/plain": [
       "<Figure size 432x288 with 1 Axes>"
      ]
     },
     "metadata": {
      "needs_background": "light"
     },
     "output_type": "display_data"
    }
   ],
   "source": [
    "plt.plot(q_real, real_posterior, c='k', label='Theoretical')\n",
    "plt.plot(q_posterior, posterior, linestyle='--', label='Estimated')\n",
    "#plt.fill_between(q_posterior[id1:id2+1], posterior[id1:id2+1],  alpha=0.5, color='C0')\n",
    "plt.axvline(q_fid, linestyle='--', color='r')\n",
    "max_est = q_posterior[np.argmax(posterior)]\n",
    "upp_bound = q_posterior[id2] - max_est\n",
    "low_bound = max_est - q_posterior[id1]\n",
    "\n",
    "# from the ML, with the corresponding error\n",
    "# confidence levels of the generated one\n",
    "sorted_posterior = sorted(likelihood_arr[:, 1], reverse=True)\n",
    "level = find_level(sorted_posterior, req_level)\n",
    "rep_level = [level]*n_sims\n",
    "try:\n",
    "    condition = np.where(likelihood_arr[:, 1] >= rep_level, 1, -1)\n",
    "    id1_gen, id2_gen = np.argwhere(np.diff(condition)).flatten()\n",
    "except:\n",
    "    id1_gen, id2_gen = 0, 0\n",
    "plt.plot(likelihood_arr[:, 0], likelihood_arr[:, 1], linestyle='-.', label='Generated')\n",
    "#plt.fill_between(likelihood_arr[id1_gen:id2_gen+1, 0], likelihood_arr[id1_gen:id2_gen+1, 1], alpha=0.5, color='C1')\n",
    "max_est_gen = likelihood_arr[:, 0][np.argmax(likelihood_arr[:, 1])]\n",
    "upp_bound_gen = likelihood_arr[:, 0][id2_gen] - max_est_gen\n",
    "low_bound_gen = max_est_gen - likelihood_arr[:, 0][id1_gen]\n",
    "plt.title(f'{max_est:.4f} $ ^{{ + {upp_bound:.4f} }}$ $ _{{ - {low_bound:.4f} }}$ vs {max_est_gen:.4f} $ ^{{ + {upp_bound_gen:.4f} }}$ $ _{{ - {low_bound_gen:.4f} }}$')\n",
    "plt.legend()\n",
    "plt.xlim([0.777, 0.7785])"
   ]
  },
  {
   "cell_type": "code",
   "execution_count": null,
   "metadata": {},
   "outputs": [],
   "source": []
  },
  {
   "cell_type": "markdown",
   "metadata": {},
   "source": [
    "# Posterior evaluation\n",
    "\n",
    "After all we've done, we do have a tool that has gaussianised the likelihood. In fact, for a given parameter q, we can create an observation with fixed noise and feed it through the encoder+NF to get a point $y$. The likelihood is a unit Gaussian, with mean given by $\\mu = y - z$, with $z$ the output of encoder+NF for the fiducial fixed noise realisation. In this sense, we only need to run 1 simulation per cosmological parameter.\n",
    "\n",
    "A general observation, instead, is simply encoded and injected in the NF, thus getting the observed compressed data vector.\n",
    "\n",
    "In order to check if we built a useful tool, we are going to calculate the posterior thus obtained. If this works, we can then build on top of this. But, as I expect, it does not work, well... we will need to re-think all of this."
   ]
  },
  {
   "cell_type": "code",
   "execution_count": 44,
   "metadata": {},
   "outputs": [],
   "source": [
    "# first thing we create an observation"
   ]
  }
 ],
 "metadata": {
  "kernelspec": {
   "display_name": "Python 3",
   "language": "python",
   "name": "python3"
  },
  "language_info": {
   "codemirror_mode": {
    "name": "ipython",
    "version": 3
   },
   "file_extension": ".py",
   "mimetype": "text/x-python",
   "name": "python",
   "nbconvert_exporter": "python",
   "pygments_lexer": "ipython3",
   "version": "3.6.9"
  }
 },
 "nbformat": 4,
 "nbformat_minor": 2
}
