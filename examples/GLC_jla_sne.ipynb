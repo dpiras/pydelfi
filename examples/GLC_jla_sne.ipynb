{
 "cells": [
  {
   "cell_type": "markdown",
   "metadata": {
    "slideshow": {
     "slide_type": "slide"
    }
   },
   "source": [
    "## Import your stuff"
   ]
  },
  {
   "cell_type": "code",
   "execution_count": 1,
   "metadata": {
    "slideshow": {
     "slide_type": "-"
    }
   },
   "outputs": [],
   "source": [
    "import numpy as np\n",
    "import matplotlib.pyplot as plt\n",
    "import tensorflow as tf\n",
    "import tensorflow_probability as tfp\n",
    "import pydelfi.score as score\n",
    "\n",
    "tfd = tfp.distributions\n",
    "tfb = tfp.bijectors\n",
    "\n",
    "%matplotlib inline"
   ]
  },
  {
   "cell_type": "code",
   "execution_count": 2,
   "metadata": {},
   "outputs": [],
   "source": [
    "import scipy.integrate as integrate\n",
    "import simulators.jla_supernovae.jla_parser as jla_parser\n",
    "\n",
    "class JLA_Model():\n",
    "\n",
    "    def __init__(self, jla_data_path = 'simulators/jla_supernovae/jla_data/'):\n",
    "\n",
    "        # Import data\n",
    "        jla_data, jla_cmats = jla_parser.b14_parse(z_min=None, z_max=None, qual_cut=False,\n",
    "                                           jla_path='simulators/jla_supernovae/jla_data/')\n",
    "        self.data = jla_data['mb']\n",
    "        delta_m_cut = 10\n",
    "        self.auxiliary_data = np.column_stack([jla_data['zcmb'], jla_data['x1'], jla_data['color'], np.array([(jla_data['3rdvar'] > delta_m_cut)], dtype=int)[0]])\n",
    "\n",
    "        # Om, w0, M_b, alpha, beta, delta_m\n",
    "        self.npar = 2\n",
    "        self.theta_fiducial = np.array([  0.20181324,  -0.74762939, -19.04253368,   0.12566322,   2.64387045, -0.05252869])\n",
    "\n",
    "        # Covariance matrix\n",
    "        self.C = jla_parser.b14_covariance(jla_data, jla_cmats, self.theta_fiducial[3], self.theta_fiducial[4])\n",
    "        self.Cinv = np.linalg.inv(self.C)\n",
    "        self.L = np.linalg.cholesky(self.C)\n",
    "\n",
    "        # Derivative of the covariance matrix\n",
    "        self.n_sn = len(self.C)\n",
    "        self.dCdt = np.zeros((self.npar, self.n_sn, self.n_sn))\n",
    "\n",
    "        # N data points\n",
    "        self.ndata = len(jla_data['mb'])\n",
    "\n",
    "        # Compute the mean\n",
    "        self.mu = self.apparent_magnitude(self.theta_fiducial)\n",
    "\n",
    "    # Distance modulus\n",
    "    def apparent_magnitude(self, theta):\n",
    "        \n",
    "        # Cosmological parameters\n",
    "        Om = theta[0]\n",
    "        w0 = theta[1]\n",
    "        h = 0.7\n",
    "        \n",
    "        # Systematics parameters\n",
    "        Mb = -19.05\n",
    "        alpha = 0.125\n",
    "        beta = 2.65\n",
    "        delta_m = -0.05\n",
    "        \n",
    "        # Pull out the relevant things from the data\n",
    "        z = self.auxiliary_data[:,0]\n",
    "        x = self.auxiliary_data[:,1]\n",
    "        c = self.auxiliary_data[:,2]\n",
    "        v3 = self.auxiliary_data[:,3]\n",
    "        \n",
    "        # Holders\n",
    "        distance_modulus = np.zeros(len(z))\n",
    "        \n",
    "        for i in range(len(z)):\n",
    "            integral = integrate.quad(lambda zz: 1./np.sqrt( Om*(1+zz)**3 + (1-Om)*(1+zz)**(3*(1+w0)) ), 0, z[i])[0]\n",
    "            distance_modulus[i] = 25 - 5*np.log10(h) + 5*np.log10(3000*(1+z[i])*integral)\n",
    "        \n",
    "        return Mb - alpha*x + beta*c + delta_m*v3 + distance_modulus\n",
    "\n",
    "    # Generate realisation of \\mu\n",
    "    def simulation(self, theta, seed):\n",
    "        \n",
    "        # Set the seed\n",
    "        np.random.seed(seed)\n",
    "\n",
    "        # Signal\n",
    "        mb = self.apparent_magnitude(theta)\n",
    "        \n",
    "        # Noise\n",
    "        noise = np.dot(self.L, np.random.normal(0, 1, len(self.L)))\n",
    "        \n",
    "        # Return signal + noise\n",
    "        return mb + noise\n",
    "\n",
    "    # Generate derivative of \\mu w.r.t cosmological parameters\n",
    "    def dmudt(self, theta_fiducial, h):\n",
    "        \n",
    "        # dmdt\n",
    "        dmdt = np.zeros((self.npar, self.ndata))\n",
    "        \n",
    "        # Fiducial data\n",
    "        d_fiducial = self.apparent_magnitude(theta_fiducial)\n",
    "        \n",
    "        # Loop over parameters\n",
    "        for i in range(0, 2):\n",
    "            \n",
    "            # Step theta\n",
    "            theta = np.copy(self.theta_fiducial)\n",
    "            theta[i] += h[i]\n",
    "            \n",
    "            # Shifted data with same seed\n",
    "            d_dash = self.apparent_magnitude(theta)\n",
    "            \n",
    "            # One step derivative\n",
    "            dmdt[i,:] = (d_dash - d_fiducial)/h[i]\n",
    "        \n",
    "        #dmdt[2,:] = np.ones(self.n_sn)\n",
    "        #dmdt[3,:] = -self.auxiliary_data[:,1]\n",
    "        #dmdt[4,:] = self.auxiliary_data[:,2]\n",
    "        #dmdt[5,:] = self.auxiliary_data[:,3]\n",
    "        \n",
    "        return dmdt"
   ]
  },
  {
   "cell_type": "code",
   "execution_count": 3,
   "metadata": {},
   "outputs": [],
   "source": [
    "# we define a few hyper parameters here\n",
    "np.random.seed(13)\n",
    "n = 2000 # total number of data points for NF\n",
    "n_sims = 2500  # total number of points for drawing posterior"
   ]
  },
  {
   "cell_type": "markdown",
   "metadata": {
    "slideshow": {
     "slide_type": "slide"
    }
   },
   "source": [
    "## Set up the simulator"
   ]
  },
  {
   "cell_type": "code",
   "execution_count": 4,
   "metadata": {
    "slideshow": {
     "slide_type": "-"
    }
   },
   "outputs": [
    {
     "name": "stderr",
     "output_type": "stream",
     "text": [
      "C:\\Users\\Davide\\Downloads\\pydelfi\\examples\\simulators\\jla_supernovae\\jla_parser.py:9: VisibleDeprecationWarning: Reading unicode strings without specifying the encoding argument is deprecated. Set the encoding, use None for the system default.\n",
      "  dtype = None, names = True)\n"
     ]
    }
   ],
   "source": [
    "JLASimulator = JLA_Model()\n",
    "\n",
    "def simulator(theta, batch, seed=None, simulator_args=None):\n",
    "    if seed is not None:\n",
    "        arr = []\n",
    "        for index in range(batch):\n",
    "            arr.append(JLASimulator.simulation(theta, seed))\n",
    "        return np.array(arr)\n",
    "    else:\n",
    "        arr = []\n",
    "        for index in range(batch):\n",
    "            arr.append(JLASimulator.simulation(theta, index))\n",
    "        return np.array(arr)\n",
    "\n",
    "simulator_args = None"
   ]
  },
  {
   "cell_type": "markdown",
   "metadata": {
    "slideshow": {
     "slide_type": "slide"
    }
   },
   "source": [
    "## Set up the prior"
   ]
  },
  {
   "cell_type": "code",
   "execution_count": 5,
   "metadata": {},
   "outputs": [],
   "source": [
    "# we are going to work only with two parameters\n",
    "lower = np.array([0.0, -1.5, -19.05, 0.125, 2.65, -0.05])\n",
    "upper = np.array([0.6, 0, -19.05, 0.125, 2.65, -0.05])"
   ]
  },
  {
   "cell_type": "markdown",
   "metadata": {
    "slideshow": {
     "slide_type": "slide"
    }
   },
   "source": [
    "## Set up the compressor\n",
    "Must have the signature `compressor(data, args)` -> `np.array([n_summaries])`<br>\n",
    "In this case we are going to do Gaussian score compression $$\\mathbf{t} = \\boldsymbol\\theta_* + \\mathbf{F}^{-1}\\nabla_\\theta^T\\boldsymbol\\mu_*\\mathbf{C}^{-1}(\\mathbf{d}-\\boldsymbol\\mu_*)$$ using the class `score.Gaussian`. For this we'll need some fiducial parameters, the mean its derivative at the fiducial parameters, the inverse covariance, and the inverse Fisher matrix"
   ]
  },
  {
   "cell_type": "code",
   "execution_count": 6,
   "metadata": {},
   "outputs": [],
   "source": [
    "theta_fiducial = np.array([0.2, -0.75])#, -19.05, 0.125, 2.65, -0.05])\n",
    "\n",
    "mu = JLASimulator.apparent_magnitude(theta_fiducial)\n",
    "Cinv = JLASimulator.Cinv\n",
    "\n",
    "h = np.array(abs(theta_fiducial[:2]))*0.01  # only use the first two parameters\n",
    "dmudt = JLASimulator.dmudt(theta_fiducial, h)\n",
    "\n",
    "Compressor = score.Gaussian(len(JLASimulator.data), theta_fiducial, mu = mu, Cinv = Cinv, dmudt = dmudt)\n",
    "Compressor.compute_fisher()\n",
    "Finv = Compressor.Finv\n",
    "\n",
    "def compressor(d, compressor_args=None):\n",
    "    return Compressor.scoreMLE(d)\n",
    "compressor_args=None"
   ]
  },
  {
   "cell_type": "code",
   "execution_count": 7,
   "metadata": {},
   "outputs": [
    {
     "data": {
      "text/plain": [
       "(740,)"
      ]
     },
     "execution_count": 7,
     "metadata": {},
     "output_type": "execute_result"
    }
   ],
   "source": [
    "mu.shape"
   ]
  },
  {
   "cell_type": "code",
   "execution_count": 8,
   "metadata": {},
   "outputs": [
    {
     "data": {
      "text/plain": [
       "[<matplotlib.lines.Line2D at 0x14c79507f98>]"
      ]
     },
     "execution_count": 8,
     "metadata": {},
     "output_type": "execute_result"
    },
    {
     "data": {
      "image/png": "[encoded data removed]",
      "text/plain": [
       "<Figure size 432x288 with 1 Axes>"
      ]
     },
     "metadata": {
      "needs_background": "light"
     },
     "output_type": "display_data"
    }
   ],
   "source": [
    "plt.plot(np.arange(740), mu)"
   ]
  },
  {
   "cell_type": "markdown",
   "metadata": {
    "slideshow": {
     "slide_type": "slide"
    }
   },
   "source": [
    "## Load in the compressed data"
   ]
  },
  {
   "cell_type": "code",
   "execution_count": 9,
   "metadata": {},
   "outputs": [
    {
     "name": "stdout",
     "output_type": "stream",
     "text": [
      "(2000, 740)\n"
     ]
    }
   ],
   "source": [
    "data_fiducial = simulator(theta_fiducial, n)\n",
    "print(data_fiducial.shape)"
   ]
  },
  {
   "cell_type": "code",
   "execution_count": 10,
   "metadata": {},
   "outputs": [],
   "source": [
    "summaries_noise = []\n",
    "for index in range(n):\n",
    "    summaries_noise.append(compressor(data_fiducial[index]))\n",
    "summaries_noise = np.asarray(summaries_noise)"
   ]
  },
  {
   "cell_type": "code",
   "execution_count": 11,
   "metadata": {},
   "outputs": [
    {
     "name": "stdout",
     "output_type": "stream",
     "text": [
      "0.11432201769143664\n",
      "0.263472365812343\n"
     ]
    },
    {
     "data": {
      "image/png": "[encoded data removed]",
      "text/plain": [
       "<Figure size 432x288 with 1 Axes>"
      ]
     },
     "metadata": {
      "needs_background": "light"
     },
     "output_type": "display_data"
    }
   ],
   "source": [
    "# first we plot the distribution of the noisy summaries\n",
    "bins = 50\n",
    "plt.hist2d(summaries_noise[:, 0], summaries_noise[:, 1], bins=bins);\n",
    "print(summaries_noise[:, 0].std())\n",
    "print(summaries_noise[:, 1].std())"
   ]
  },
  {
   "cell_type": "code",
   "execution_count": 12,
   "metadata": {},
   "outputs": [],
   "source": [
    "data_fixed_noise = np.zeros((n_sims, 740))\n",
    "n_bins = 50\n",
    "xx = np.linspace(0, 0.6, n_bins, endpoint=True)\n",
    "yy = np.linspace(-1.5, 0, n_bins, endpoint=True)\n",
    "index = 0\n",
    "q_prior = np.zeros((n_bins*n_bins, 2))\n",
    "for i in xx:\n",
    "    for j in yy:\n",
    "        theta = [i, j]\n",
    "        data_fixed_noise[index] = simulator(theta, 1, seed=0)\n",
    "        q_prior[index, :] = i, j\n",
    "        index += 1"
   ]
  },
  {
   "cell_type": "code",
   "execution_count": 13,
   "metadata": {},
   "outputs": [
    {
     "data": {
      "text/plain": [
       "(2500, 740)"
      ]
     },
     "execution_count": 13,
     "metadata": {},
     "output_type": "execute_result"
    },
    {
     "data": {
      "image/png": "[encoded data removed]",
      "text/plain": [
       "<Figure size 720x1080 with 1 Axes>"
      ]
     },
     "metadata": {
      "needs_background": "light"
     },
     "output_type": "display_data"
    }
   ],
   "source": [
    "plt.figure(figsize=(10, 15))\n",
    "for index in [500, 2402]:\n",
    "    plt.loglog(np.arange(740), data_fixed_noise[index], label=q_prior[index])\n",
    "for index in range(10):\n",
    "    plt.loglog(np.arange(740), data_fiducial[index])\n",
    "#plt.loglog(np.arange(n_vec), d_vec_obs[0], label='Observation', linestyle = '--')\n",
    "plt.legend();\n",
    "data_fixed_noise.shape"
   ]
  },
  {
   "cell_type": "code",
   "execution_count": 14,
   "metadata": {},
   "outputs": [],
   "source": [
    "summaries_posterior = []\n",
    "for index in range(n_sims):\n",
    "    summaries_posterior.append(compressor(data_fixed_noise[index]))  # it should be in the whole prior \n",
    "summaries_posterior = np.asarray(summaries_posterior)"
   ]
  },
  {
   "cell_type": "code",
   "execution_count": 15,
   "metadata": {},
   "outputs": [
    {
     "data": {
      "image/png": "[encoded data removed]",
      "text/plain": [
       "<Figure size 432x288 with 1 Axes>"
      ]
     },
     "metadata": {
      "needs_background": "light"
     },
     "output_type": "display_data"
    }
   ],
   "source": [
    "plt.scatter(summaries_posterior[:, 0], summaries_posterior[:, 1]);"
   ]
  },
  {
   "cell_type": "code",
   "execution_count": 16,
   "metadata": {},
   "outputs": [],
   "source": [
    "# we also create the data corresponding to fixed noise, at the fiducial q\n",
    "data_fiducial_shift = simulator(theta_fiducial, 1, seed=0)"
   ]
  },
  {
   "cell_type": "code",
   "execution_count": 17,
   "metadata": {},
   "outputs": [],
   "source": [
    "summary_shift = compressor(data_fiducial_shift[0]) \n",
    "summary_shift = np.reshape(summary_shift, [1, -1])"
   ]
  },
  {
   "cell_type": "code",
   "execution_count": 18,
   "metadata": {},
   "outputs": [],
   "source": [
    "data_obs = simulator(theta_fiducial, 1, 1)"
   ]
  },
  {
   "cell_type": "code",
   "execution_count": 19,
   "metadata": {},
   "outputs": [],
   "source": [
    "summary_obs = compressor(data_obs[0])\n",
    "summary_obs = np.reshape(summary_obs, [1, -1])"
   ]
  },
  {
   "cell_type": "code",
   "execution_count": 20,
   "metadata": {},
   "outputs": [
    {
     "data": {
      "image/png": "[encoded data removed]",
      "text/plain": [
       "<Figure size 432x288 with 1 Axes>"
      ]
     },
     "metadata": {
      "needs_background": "light"
     },
     "output_type": "display_data"
    }
   ],
   "source": [
    "bins = 50\n",
    "plt.hist2d(summaries_noise[:, 0], summaries_noise[:, 1], bins=bins);\n",
    "plt.scatter(summary_obs[0, 0], summary_obs[0, 1]);"
   ]
  },
  {
   "cell_type": "code",
   "execution_count": 21,
   "metadata": {},
   "outputs": [
    {
     "data": {
      "text/plain": [
       "<matplotlib.collections.PathCollection at 0x14c74fa7a90>"
      ]
     },
     "execution_count": 21,
     "metadata": {},
     "output_type": "execute_result"
    },
    {
     "data": {
      "image/png": "[encoded data removed]",
      "text/plain": [
       "<Figure size 432x288 with 1 Axes>"
      ]
     },
     "metadata": {
      "needs_background": "light"
     },
     "output_type": "display_data"
    }
   ],
   "source": [
    "# we also check if the shift FN is within the summaries of the fiducial noisy data\n",
    "bins = 50\n",
    "plt.hist2d(summaries_noise[:, 0], summaries_noise[:, 1], bins=bins);\n",
    "plt.scatter(summary_shift[0][0], summary_shift[0][1])"
   ]
  },
  {
   "cell_type": "markdown",
   "metadata": {},
   "source": [
    "# Gaussianisation of the latent space\n",
    "\n",
    "At this stage, we finally need to set up the NF between the obtaines sample of summaries, in order to have the bijection to that space. We will use Inverse Autoregressive Flows (IAFs)."
   ]
  },
  {
   "cell_type": "code",
   "execution_count": 22,
   "metadata": {},
   "outputs": [
    {
     "name": "stdout",
     "output_type": "stream",
     "text": [
      "WARNING:tensorflow:From <ipython-input-22-e05770a1a969>:14: DatasetV1.make_one_shot_iterator (from tensorflow.python.data.ops.dataset_ops) is deprecated and will be removed in a future version.\n",
      "Instructions for updating:\n",
      "Use `for ... in dataset:` to iterate over a dataset. If using `tf.estimator`, return the `Dataset` object directly from your input function. As a last resort, you can use `tf.compat.v1.data.make_one_shot_iterator(dataset)`.\n"
     ]
    }
   ],
   "source": [
    "# we define a few variables here, and reset the graph\n",
    "DTYPE=tf.float32\n",
    "NP_DTYPE=np.float32\n",
    "tf.reset_default_graph()\n",
    "batch_size = 128\n",
    "num_bijectors = 16\n",
    "\n",
    "# we transform the summaries to a TF dataset object\n",
    "dataset = tf.data.Dataset.from_tensor_slices(summaries_noise.astype(NP_DTYPE))\n",
    "dataset = dataset.repeat()\n",
    "dataset = dataset.shuffle(buffer_size=summaries_noise.shape[0])\n",
    "dataset = dataset.prefetch(3 * batch_size)\n",
    "dataset = dataset.batch(batch_size)\n",
    "data_iterator = dataset.make_one_shot_iterator()\n",
    "x_samples = data_iterator.get_next()"
   ]
  },
  {
   "cell_type": "code",
   "execution_count": 23,
   "metadata": {},
   "outputs": [],
   "source": [
    "# this is the distribution to match\n",
    "#base_dist = tfd.Normal(loc=0.0, scale=1.0)\n",
    "base_dist = tfd.MultivariateNormalDiag(loc=tf.zeros([2], DTYPE))"
   ]
  },
  {
   "cell_type": "code",
   "execution_count": 24,
   "metadata": {},
   "outputs": [],
   "source": [
    "# we define the flow here\n",
    "bijectors = []\n",
    "for i in range(num_bijectors):\n",
    "    bijectors.append(tfb.Invert(tfb.MaskedAutoregressiveFlow(\n",
    "            shift_and_log_scale_fn=tfb.masked_autoregressive_default_template(\n",
    "                hidden_layers=[1024, 1024]))))\n",
    "    bijectors.append(tfb.Permute(permutation=[1, 0]))\n",
    "# discard the last Permute layer.\n",
    "flow_bijector = tfb.Chain(list(reversed(bijectors[:-1])))"
   ]
  },
  {
   "cell_type": "code",
   "execution_count": 25,
   "metadata": {},
   "outputs": [],
   "source": [
    "# this is the transformed distribution, i.e. the distribution of the summaries\n",
    "dist = tfd.TransformedDistribution(\n",
    "            distribution=base_dist,\n",
    "            bijector=flow_bijector)"
   ]
  },
  {
   "cell_type": "code",
   "execution_count": 26,
   "metadata": {},
   "outputs": [
    {
     "name": "stdout",
     "output_type": "stream",
     "text": [
      "WARNING:tensorflow:From C:\\Users\\Davide\\Anaconda3\\lib\\site-packages\\tensorflow_probability\\python\\bijectors\\masked_autoregressive.py:450: Layer.apply (from tensorflow.python.keras.engine.base_layer) is deprecated and will be removed in a future version.\n",
      "Instructions for updating:\n",
      "Please use `layer.__call__` method instead.\n"
     ]
    }
   ],
   "source": [
    "# optimisation\n",
    "loss = -tf.reduce_mean(dist.log_prob(x_samples))\n",
    "train_op = tf.train.AdamOptimizer(1e-3).minimize(loss)"
   ]
  },
  {
   "cell_type": "code",
   "execution_count": 27,
   "metadata": {},
   "outputs": [
    {
     "name": "stdout",
     "output_type": "stream",
     "text": [
      "0 2.209251\n",
      "500 -3.156402\n",
      "1000 -2.9554756\n",
      "1500 -3.1534557\n"
     ]
    },
    {
     "data": {
      "text/plain": [
       "[<matplotlib.lines.Line2D at 0x14c11d0b128>]"
      ]
     },
     "execution_count": 27,
     "metadata": {},
     "output_type": "execute_result"
    },
    {
     "data": {
      "image/png": "[encoded data removed]",
      "text/plain": [
       "<Figure size 432x288 with 1 Axes>"
      ]
     },
     "metadata": {
      "needs_background": "light"
     },
     "output_type": "display_data"
    }
   ],
   "source": [
    "# and finally we train the NF as well\n",
    "sess = tf.Session()\n",
    "sess.run(tf.global_variables_initializer())\n",
    "NUM_STEPS = 2000#int(settings[TARGET_DENSITY]['train_iters'])\n",
    "global_step = []\n",
    "losses = []\n",
    "for i in range(NUM_STEPS):\n",
    "    _, np_loss = sess.run([train_op, loss])\n",
    "    if i % 10 == 0:\n",
    "        global_step.append(i)\n",
    "        losses.append(np_loss)\n",
    "        #g_losses.append(gl)\n",
    "    if i % int(5e2) == 0:\n",
    "        print(i, np_loss)\n",
    "start = 0\n",
    "plt.plot(global_step, losses[start:])"
   ]
  },
  {
   "cell_type": "code",
   "execution_count": 28,
   "metadata": {},
   "outputs": [],
   "source": [
    "# now we need to look at samples which we inject in the flow to the Gaussian domain\n",
    "# just to make sure the gaussianisation was successful"
   ]
  },
  {
   "cell_type": "code",
   "execution_count": 33,
   "metadata": {},
   "outputs": [],
   "source": [
    "# we look at the flow injection, which corresponds to the inverse pass\n",
    "x = x_samples\n",
    "samples = [x]\n",
    "names = [base_dist.name]\n",
    "for bijector in dist.bijector.bijectors:\n",
    "    x = bijector.inverse(x)\n",
    "    samples.append(x)\n",
    "    names.append(bijector.name)\n",
    "samples_plot = [samples[0], samples[-1], base_dist.sample(128)]\n",
    "names=['Latent', 'Mapped latent', 'Original Gaussian']"
   ]
  },
  {
   "cell_type": "code",
   "execution_count": 34,
   "metadata": {},
   "outputs": [
    {
     "data": {
      "image/png": "[encoded data removed]",
      "text/plain": [
       "<Figure size 864x288 with 3 Axes>"
      ]
     },
     "metadata": {
      "needs_background": "light"
     },
     "output_type": "display_data"
    }
   ],
   "source": [
    "noise_flow = sess.run(samples_plot)\n",
    "f, arr = plt.subplots(1, len(noise_flow), figsize=(4 * (len(noise_flow)), 4))\n",
    "X0 = noise_flow[0]\n",
    "for i in range(len(noise_flow)):\n",
    "    X1 = noise_flow[i]\n",
    "    arr[i].scatter(X1[:, 0], X1[:, 1], s=10)\n",
    "    arr[i].set_title(names[i])"
   ]
  },
  {
   "cell_type": "code",
   "execution_count": 35,
   "metadata": {},
   "outputs": [
    {
     "name": "stdout",
     "output_type": "stream",
     "text": [
      "0.2145977\n",
      "-0.78570247\n",
      "-0.060631793\n",
      "0.03711669\n",
      "-0.019231008\n",
      "-0.010123998\n"
     ]
    }
   ],
   "source": [
    "print(noise_flow[0][:, 0].mean())\n",
    "print(noise_flow[0][:, 1].mean())\n",
    "print(noise_flow[1][:, 0].mean())\n",
    "print(noise_flow[1][:, 1].mean())\n",
    "print(noise_flow[2][:, 0].mean())\n",
    "print(noise_flow[2][:, 1].mean())"
   ]
  },
  {
   "cell_type": "code",
   "execution_count": 36,
   "metadata": {},
   "outputs": [
    {
     "name": "stdout",
     "output_type": "stream",
     "text": [
      "0.11178331\n",
      "0.25726548\n",
      "1.0055177\n",
      "0.9243995\n",
      "0.97185796\n",
      "1.0405332\n"
     ]
    }
   ],
   "source": [
    "print(noise_flow[0][:, 0].std())\n",
    "print(noise_flow[0][:, 1].std())\n",
    "print(noise_flow[1][:, 0].std())\n",
    "print(noise_flow[1][:, 1].std())\n",
    "print(noise_flow[2][:, 0].std())\n",
    "print(noise_flow[2][:, 1].std())"
   ]
  },
  {
   "cell_type": "code",
   "execution_count": 37,
   "metadata": {},
   "outputs": [],
   "source": [
    "# we need to inject all of the summaries\n",
    "# in order to do that, we create many Dataset objects\n",
    "# we need to transform the the FN vectors, the observation, and the posterior points\n",
    "dataset = tf.data.Dataset.from_tensor_slices(summary_obs.astype(NP_DTYPE))\n",
    "dataset = dataset.repeat()\n",
    "dataset = dataset.prefetch(3 * 1)\n",
    "dataset = dataset.batch(1)\n",
    "data_iterator = dataset.make_one_shot_iterator()\n",
    "x_samples_obs = data_iterator.get_next()"
   ]
  },
  {
   "cell_type": "code",
   "execution_count": 38,
   "metadata": {},
   "outputs": [],
   "source": [
    "# we need to inject all of the summaries\n",
    "# in order to do that, we create many Dataset objects\n",
    "# we need to transform the the FN vectors, the observation, and the posterior points\n",
    "dataset = tf.data.Dataset.from_tensor_slices(summaries_posterior.astype(NP_DTYPE))\n",
    "dataset = dataset.repeat()\n",
    "dataset = dataset.prefetch(3 * n_sims)\n",
    "dataset = dataset.batch(n_sims)\n",
    "data_iterator = dataset.make_one_shot_iterator()\n",
    "x_samples_posterior = data_iterator.get_next()"
   ]
  },
  {
   "cell_type": "code",
   "execution_count": 39,
   "metadata": {},
   "outputs": [],
   "source": [
    "# we inject the shift as well\n",
    "dataset = tf.data.Dataset.from_tensor_slices(summary_shift.astype(NP_DTYPE))\n",
    "dataset = dataset.repeat()\n",
    "dataset = dataset.prefetch(3 * 1)\n",
    "dataset = dataset.batch(1)\n",
    "data_iterator = dataset.make_one_shot_iterator()\n",
    "x_samples_shift = data_iterator.get_next()"
   ]
  },
  {
   "cell_type": "code",
   "execution_count": 40,
   "metadata": {},
   "outputs": [],
   "source": [
    "# we inject the FN observation in the flow, since we need the fiducial one for the posterior evaluation\n",
    "x = x_samples_shift\n",
    "samples = [x]\n",
    "for bijector in dist.bijector.bijectors:\n",
    "    x = bijector.inverse(x)\n",
    "    samples.append(x)\n",
    "shift_flow_ = samples[-1]\n",
    "shift = sess.run(shift_flow_)"
   ]
  },
  {
   "cell_type": "code",
   "execution_count": 41,
   "metadata": {},
   "outputs": [
    {
     "data": {
      "text/plain": [
       "array([-0.14727774,  0.19376792], dtype=float32)"
      ]
     },
     "execution_count": 41,
     "metadata": {},
     "output_type": "execute_result"
    }
   ],
   "source": [
    "shift[0]"
   ]
  },
  {
   "cell_type": "code",
   "execution_count": 42,
   "metadata": {},
   "outputs": [],
   "source": [
    "# we inject the posterior points\n",
    "x = x_samples_posterior\n",
    "samples = [x]\n",
    "for bijector in dist.bijector.bijectors:\n",
    "    x = bijector.inverse(x)\n",
    "    samples.append(x)\n",
    "posterior_points_ = samples[-1]\n",
    "posterior_points = sess.run(posterior_points_)"
   ]
  },
  {
   "cell_type": "code",
   "execution_count": 43,
   "metadata": {},
   "outputs": [
    {
     "name": "stdout",
     "output_type": "stream",
     "text": [
      "[4.5298715, 28.842548]\n"
     ]
    }
   ],
   "source": [
    "# check that there are no duplicates\n",
    "posterior_points__ = list(np.reshape(posterior_points, [-1]))\n",
    "\n",
    "import collections\n",
    "print ([item for item, count in collections.Counter(posterior_points__).items() if count > 1])"
   ]
  },
  {
   "cell_type": "code",
   "execution_count": 44,
   "metadata": {},
   "outputs": [],
   "source": [
    "# we need to shift the posterior points as we want the mean to be captured, and they have fixed noise\n",
    "posterior_points_mu = posterior_points - shift[0]"
   ]
  },
  {
   "cell_type": "code",
   "execution_count": 45,
   "metadata": {},
   "outputs": [],
   "source": [
    "# finally, we try to evaluate the posterior\n",
    "# we first inject the observation in the flow as well\n",
    "x = x_samples_obs\n",
    "samples = [x]\n",
    "for bijector in dist.bijector.bijectors:\n",
    "    x = bijector.inverse(x)\n",
    "    samples.append(x)\n",
    "observation_ = samples[-1]\n",
    "compressed_obs = sess.run(observation_)"
   ]
  },
  {
   "cell_type": "code",
   "execution_count": 46,
   "metadata": {},
   "outputs": [
    {
     "data": {
      "text/plain": [
       "(2500, 2)"
      ]
     },
     "execution_count": 46,
     "metadata": {},
     "output_type": "execute_result"
    }
   ],
   "source": [
    "posterior_points.shape"
   ]
  },
  {
   "cell_type": "code",
   "execution_count": 47,
   "metadata": {},
   "outputs": [
    {
     "data": {
      "image/png": "[encoded data removed]",
      "text/plain": [
       "<Figure size 432x288 with 1 Axes>"
      ]
     },
     "metadata": {
      "needs_background": "light"
     },
     "output_type": "display_data"
    }
   ],
   "source": [
    "plt.scatter(noise_flow[1][:, 0], noise_flow[1][:, 1])\n",
    "plt.scatter(compressed_obs[0][0], compressed_obs[0][1])\n",
    "plt.scatter(shift[0][0], shift[0][1]);\n",
    "plt.scatter(posterior_points_mu[:, 0], posterior_points_mu[:, 1]);"
   ]
  },
  {
   "cell_type": "code",
   "execution_count": 48,
   "metadata": {},
   "outputs": [],
   "source": [
    "# finally we evaluate the likelihood\n",
    "from scipy.stats import multivariate_normal as normal\n",
    "likelihood_arr = np.zeros((n_sims, 3))\n",
    "for index, mu in enumerate(posterior_points_mu):\n",
    "    like_value = normal.pdf(compressed_obs[0], mean=mu, cov=np.eye(2))\n",
    "    likelihood_arr[index, :] = q_prior[index, 0], q_prior[index, 1], like_value"
   ]
  },
  {
   "cell_type": "code",
   "execution_count": 49,
   "metadata": {},
   "outputs": [],
   "source": [
    "likelihood_arr[:, 2] = likelihood_arr[:, 2]/likelihood_arr[:, 2].sum()"
   ]
  },
  {
   "cell_type": "code",
   "execution_count": 46,
   "metadata": {},
   "outputs": [
    {
     "data": {
      "image/png": "[encoded data removed]",
      "text/plain": [
       "<Figure size 540x540 with 4 Axes>"
      ]
     },
     "metadata": {
      "needs_background": "light"
     },
     "output_type": "display_data"
    }
   ],
   "source": []
  },
  {
   "cell_type": "code",
   "execution_count": 52,
   "metadata": {},
   "outputs": [],
   "source": [
    "# now we loo for the comparison with pydelfi, \n",
    "# which in this case acts as the \"ground truth\""
   ]
  },
  {
   "cell_type": "code",
   "execution_count": 53,
   "metadata": {},
   "outputs": [],
   "source": [
    "import pydelfi.ndes as ndes\n",
    "import pydelfi.delfi as delfi\n",
    "import pydelfi.score as score\n",
    "import pydelfi.priors as priors\n",
    "tf.logging.set_verbosity(tf.logging.ERROR)"
   ]
  },
  {
   "cell_type": "code",
   "execution_count": 54,
   "metadata": {},
   "outputs": [
    {
     "name": "stderr",
     "output_type": "stream",
     "text": [
      "C:\\Users\\Davide\\Downloads\\pydelfi\\examples\\simulators\\jla_supernovae\\jla_parser.py:9: VisibleDeprecationWarning: Reading unicode strings without specifying the encoding argument is deprecated. Set the encoding, use None for the system default.\n",
      "  dtype = None, names = True)\n"
     ]
    }
   ],
   "source": [
    "JLASimulator = JLA_Model()\n",
    "\n",
    "def simulator(theta, seed, simulator_args, batch):\n",
    "    \n",
    "    return JLASimulator.simulation(theta, seed)\n",
    "\n",
    "simulator_args = None"
   ]
  },
  {
   "cell_type": "code",
   "execution_count": 55,
   "metadata": {},
   "outputs": [],
   "source": [
    "# we are going to work only with two parameters\n",
    "lower = np.array([0.0, -1.5])#, -19.05, 0.125, 2.65, -0.05])\n",
    "upper = np.array([0.6, 0])#, -19.05, 0.125, 2.65, -0.05])\n",
    "prior = priors.Uniform(lower, upper)"
   ]
  },
  {
   "cell_type": "code",
   "execution_count": 56,
   "metadata": {},
   "outputs": [],
   "source": [
    "theta_fiducial = np.array([0.2, -0.75])#, -19.05, 0.125, 2.65, -0.05])\n",
    "\n",
    "mu = JLASimulator.apparent_magnitude(theta_fiducial)\n",
    "Cinv = JLASimulator.Cinv\n",
    "\n",
    "h = np.array(abs(theta_fiducial))*0.01\n",
    "dmudt = JLASimulator.dmudt(theta_fiducial, h)\n",
    "\n",
    "Compressor = score.Gaussian(len(JLASimulator.data), theta_fiducial, mu = mu, Cinv = Cinv, dmudt = dmudt)\n",
    "Compressor.compute_fisher()\n",
    "Finv = Compressor.Finv\n",
    "\n",
    "def compressor(d, compressor_args):\n",
    "    return Compressor.scoreMLE(d)\n",
    "compressor_args=None"
   ]
  },
  {
   "cell_type": "code",
   "execution_count": 57,
   "metadata": {},
   "outputs": [],
   "source": [
    "compressed_data = compressor(JLASimulator.data, compressor_args)"
   ]
  },
  {
   "cell_type": "code",
   "execution_count": 58,
   "metadata": {},
   "outputs": [],
   "source": [
    "NDEs = [ndes.MixtureDensityNetwork(n_parameters=2, n_data=2, n_components=1, n_hidden=[30,30], activations=[tf.tanh, tf.tanh], index=0),\n",
    "       ndes.MixtureDensityNetwork(n_parameters=2, n_data=2, n_components=2, n_hidden=[30,30], activations=[tf.tanh, tf.tanh], index=1),\n",
    "       ndes.MixtureDensityNetwork(n_parameters=2, n_data=2, n_components=3, n_hidden=[30,30], activations=[tf.tanh, tf.tanh], index=2),\n",
    "       ndes.MixtureDensityNetwork(n_parameters=2, n_data=2, n_components=4, n_hidden=[30,30], activations=[tf.tanh, tf.tanh], index=3),\n",
    "       ndes.MixtureDensityNetwork(n_parameters=2, n_data=2, n_components=5, n_hidden=[30,30], activations=[tf.tanh, tf.tanh], index=4),\n",
    "       ndes.ConditionalMaskedAutoregressiveFlow(n_parameters=2, n_data=2, n_hiddens=[50,50], n_mades=5, act_fun=tf.tanh, index=5)]"
   ]
  },
  {
   "cell_type": "code",
   "execution_count": 59,
   "metadata": {},
   "outputs": [],
   "source": [
    "DelfiEnsemble = delfi.Delfi(compressed_data, prior, NDEs, \n",
    "                            Finv = Finv, \n",
    "                            theta_fiducial = theta_fiducial, \n",
    "                            param_limits = [lower, upper],\n",
    "                            param_names = ['\\\\Omega_m', 'w_0'], \n",
    "                            results_dir = \"simulators/jla_supernovae/results/\",\n",
    "                            input_normalization=\"fisher\")"
   ]
  },
  {
   "cell_type": "code",
   "execution_count": 60,
   "metadata": {},
   "outputs": [
    {
     "data": {
      "application/vnd.jupyter.widget-view+json": {
       "model_id": "8bea8771fb01479089bc62b7c7f42724",
       "version_major": 2,
       "version_minor": 0
      },
      "text/plain": [
       "HBox(children=(IntProgress(value=0, description='Training', max=1000, style=ProgressStyle(description_width='i…"
      ]
     },
     "metadata": {},
     "output_type": "display_data"
    },
    {
     "data": {
      "application/vnd.jupyter.widget-view+json": {
       "model_id": "2661083c23954e398138365e442c0f1b",
       "version_major": 2,
       "version_minor": 0
      },
      "text/plain": [
       "HBox(children=(IntProgress(value=0, description='Training', max=1000, style=ProgressStyle(description_width='i…"
      ]
     },
     "metadata": {},
     "output_type": "display_data"
    },
    {
     "data": {
      "application/vnd.jupyter.widget-view+json": {
       "model_id": "9ce32f17da68466ba01a6ea7cd91cc50",
       "version_major": 2,
       "version_minor": 0
      },
      "text/plain": [
       "HBox(children=(IntProgress(value=0, description='Training', max=1000, style=ProgressStyle(description_width='i…"
      ]
     },
     "metadata": {},
     "output_type": "display_data"
    },
    {
     "data": {
      "application/vnd.jupyter.widget-view+json": {
       "model_id": "0884bb5cb53242ce99629441a1538718",
       "version_major": 2,
       "version_minor": 0
      },
      "text/plain": [
       "HBox(children=(IntProgress(value=0, description='Training', max=1000, style=ProgressStyle(description_width='i…"
      ]
     },
     "metadata": {},
     "output_type": "display_data"
    },
    {
     "data": {
      "application/vnd.jupyter.widget-view+json": {
       "model_id": "a4b413f1bfc146c4b73a243d10e220fc",
       "version_major": 2,
       "version_minor": 0
      },
      "text/plain": [
       "HBox(children=(IntProgress(value=0, description='Training', max=1000, style=ProgressStyle(description_width='i…"
      ]
     },
     "metadata": {},
     "output_type": "display_data"
    },
    {
     "data": {
      "application/vnd.jupyter.widget-view+json": {
       "model_id": "4cdc29b469ec4b65990a642cf2fc04d4",
       "version_major": 2,
       "version_minor": 0
      },
      "text/plain": [
       "HBox(children=(IntProgress(value=0, description='Training', max=1000, style=ProgressStyle(description_width='i…"
      ]
     },
     "metadata": {},
     "output_type": "display_data"
    },
    {
     "name": "stdout",
     "output_type": "stream",
     "text": [
      "Sampling approximate posterior...\n",
      "Done.\n",
      "Removed no burn in\n"
     ]
    },
    {
     "name": "stderr",
     "output_type": "stream",
     "text": [
      "C:\\Users\\Davide\\Anaconda3\\lib\\site-packages\\pydelfi-0.1-py3.6.egg\\pydelfi\\delfi.py:626: UserWarning: This figure includes Axes that are not compatible with tight_layout, so results might be incorrect.\n",
      "C:\\Users\\Davide\\Anaconda3\\lib\\site-packages\\pydelfi-0.1-py3.6.egg\\pydelfi\\delfi.py:632: UserWarning: Matplotlib is currently using agg, which is a non-GUI backend, so cannot show the figure.\n"
     ]
    },
    {
     "data": {
      "image/png": "[encoded data removed]",
      "text/plain": [
       "<Figure size 864x864 with 3 Axes>"
      ]
     },
     "metadata": {
      "needs_background": "light"
     },
     "output_type": "display_data"
    }
   ],
   "source": [
    "DelfiEnsemble.fisher_pretraining()"
   ]
  },
  {
   "cell_type": "code",
   "execution_count": null,
   "metadata": {},
   "outputs": [
    {
     "data": {
      "application/vnd.jupyter.widget-view+json": {
       "model_id": "bc7880063ba8493e80aa134b8e58159f",
       "version_major": 2,
       "version_minor": 0
      },
      "text/plain": [
       "HBox(children=(IntProgress(value=0, description='Simulations', max=199, style=ProgressStyle(description_width=…"
      ]
     },
     "metadata": {},
     "output_type": "display_data"
    },
    {
     "data": {
      "application/vnd.jupyter.widget-view+json": {
       "model_id": "94aa94d72e23492da09365e14a34cbf8",
       "version_major": 2,
       "version_minor": 0
      },
      "text/plain": [
       "HBox(children=(IntProgress(value=0, description='Training', max=300, style=ProgressStyle(description_width='in…"
      ]
     },
     "metadata": {},
     "output_type": "display_data"
    },
    {
     "data": {
      "application/vnd.jupyter.widget-view+json": {
       "model_id": "b5c18aeadfd348e286b4e88c10f5d154",
       "version_major": 2,
       "version_minor": 0
      },
      "text/plain": [
       "HBox(children=(IntProgress(value=0, description='Training', max=300, style=ProgressStyle(description_width='in…"
      ]
     },
     "metadata": {},
     "output_type": "display_data"
    },
    {
     "data": {
      "application/vnd.jupyter.widget-view+json": {
       "model_id": "8d029cf2bb724a878cd0815150f7998e",
       "version_major": 2,
       "version_minor": 0
      },
      "text/plain": [
       "HBox(children=(IntProgress(value=0, description='Training', max=300, style=ProgressStyle(description_width='in…"
      ]
     },
     "metadata": {},
     "output_type": "display_data"
    },
    {
     "data": {
      "application/vnd.jupyter.widget-view+json": {
       "model_id": "c2aedb1e326b4fd69825a1febb8b1f34",
       "version_major": 2,
       "version_minor": 0
      },
      "text/plain": [
       "HBox(children=(IntProgress(value=0, description='Training', max=300, style=ProgressStyle(description_width='in…"
      ]
     },
     "metadata": {},
     "output_type": "display_data"
    },
    {
     "data": {
      "application/vnd.jupyter.widget-view+json": {
       "model_id": "2d3a5566086445699287ab83d61dd029",
       "version_major": 2,
       "version_minor": 0
      },
      "text/plain": [
       "HBox(children=(IntProgress(value=0, description='Training', max=300, style=ProgressStyle(description_width='in…"
      ]
     },
     "metadata": {},
     "output_type": "display_data"
    },
    {
     "data": {
      "application/vnd.jupyter.widget-view+json": {
       "model_id": "73a8dba123e245bab0be62bafd8d01f1",
       "version_major": 2,
       "version_minor": 0
      },
      "text/plain": [
       "HBox(children=(IntProgress(value=0, description='Training', max=300, style=ProgressStyle(description_width='in…"
      ]
     },
     "metadata": {},
     "output_type": "display_data"
    },
    {
     "name": "stdout",
     "output_type": "stream",
     "text": [
      "Population 1/10\n",
      "Sampling proposal density...\n",
      "Done.\n"
     ]
    },
    {
     "data": {
      "application/vnd.jupyter.widget-view+json": {
       "model_id": "c6aa868042d54715aa846a33fec518b2",
       "version_major": 2,
       "version_minor": 0
      },
      "text/plain": [
       "HBox(children=(IntProgress(value=0, description='Simulations', max=199, style=ProgressStyle(description_width=…"
      ]
     },
     "metadata": {},
     "output_type": "display_data"
    },
    {
     "data": {
      "application/vnd.jupyter.widget-view+json": {
       "model_id": "539edb0f9f5b4e7aad10eb4a4adc874e",
       "version_major": 2,
       "version_minor": 0
      },
      "text/plain": [
       "HBox(children=(IntProgress(value=0, description='Training', max=300, style=ProgressStyle(description_width='in…"
      ]
     },
     "metadata": {},
     "output_type": "display_data"
    },
    {
     "data": {
      "application/vnd.jupyter.widget-view+json": {
       "model_id": "a6f36bd84e7948cc839ce42ba2d470e7",
       "version_major": 2,
       "version_minor": 0
      },
      "text/plain": [
       "HBox(children=(IntProgress(value=0, description='Training', max=300, style=ProgressStyle(description_width='in…"
      ]
     },
     "metadata": {},
     "output_type": "display_data"
    },
    {
     "data": {
      "application/vnd.jupyter.widget-view+json": {
       "model_id": "bae7d969367d4e48a7e2feacb5aed41e",
       "version_major": 2,
       "version_minor": 0
      },
      "text/plain": [
       "HBox(children=(IntProgress(value=0, description='Training', max=300, style=ProgressStyle(description_width='in…"
      ]
     },
     "metadata": {},
     "output_type": "display_data"
    },
    {
     "data": {
      "application/vnd.jupyter.widget-view+json": {
       "model_id": "c8a5859592db4283b1f3d2943f74f816",
       "version_major": 2,
       "version_minor": 0
      },
      "text/plain": [
       "HBox(children=(IntProgress(value=0, description='Training', max=300, style=ProgressStyle(description_width='in…"
      ]
     },
     "metadata": {},
     "output_type": "display_data"
    },
    {
     "data": {
      "application/vnd.jupyter.widget-view+json": {
       "model_id": "42560aa99c514dcc8bb126ec2b72e2ae",
       "version_major": 2,
       "version_minor": 0
      },
      "text/plain": [
       "HBox(children=(IntProgress(value=0, description='Training', max=300, style=ProgressStyle(description_width='in…"
      ]
     },
     "metadata": {},
     "output_type": "display_data"
    },
    {
     "data": {
      "application/vnd.jupyter.widget-view+json": {
       "model_id": "6d1b80cd03b7461ab9423861b3a287e1",
       "version_major": 2,
       "version_minor": 0
      },
      "text/plain": [
       "HBox(children=(IntProgress(value=0, description='Training', max=300, style=ProgressStyle(description_width='in…"
      ]
     },
     "metadata": {},
     "output_type": "display_data"
    },
    {
     "name": "stderr",
     "output_type": "stream",
     "text": [
      "C:\\Users\\Davide\\Anaconda3\\lib\\site-packages\\pydelfi-0.1-py3.6.egg\\pydelfi\\delfi.py:667: UserWarning: Matplotlib is currently using pdf, which is a non-GUI backend, so cannot show the figure.\n"
     ]
    },
    {
     "name": "stdout",
     "output_type": "stream",
     "text": [
      "Population 2/10\n",
      "Sampling proposal density...\n",
      "Done.\n"
     ]
    },
    {
     "data": {
      "application/vnd.jupyter.widget-view+json": {
       "model_id": "5175d4dba4064f29bd849cee4ab16c58",
       "version_major": 2,
       "version_minor": 0
      },
      "text/plain": [
       "HBox(children=(IntProgress(value=0, description='Simulations', max=199, style=ProgressStyle(description_width=…"
      ]
     },
     "metadata": {},
     "output_type": "display_data"
    },
    {
     "data": {
      "application/vnd.jupyter.widget-view+json": {
       "model_id": "343cbc92c884490e8e4a95ca5f5afaee",
       "version_major": 2,
       "version_minor": 0
      },
      "text/plain": [
       "HBox(children=(IntProgress(value=0, description='Training', max=300, style=ProgressStyle(description_width='in…"
      ]
     },
     "metadata": {},
     "output_type": "display_data"
    },
    {
     "data": {
      "application/vnd.jupyter.widget-view+json": {
       "model_id": "97e658b1f0404b0c91194f99a1bcbd12",
       "version_major": 2,
       "version_minor": 0
      },
      "text/plain": [
       "HBox(children=(IntProgress(value=0, description='Training', max=300, style=ProgressStyle(description_width='in…"
      ]
     },
     "metadata": {},
     "output_type": "display_data"
    },
    {
     "data": {
      "application/vnd.jupyter.widget-view+json": {
       "model_id": "64ea3519abc242aba4ecbc21efe9e91b",
       "version_major": 2,
       "version_minor": 0
      },
      "text/plain": [
       "HBox(children=(IntProgress(value=0, description='Training', max=300, style=ProgressStyle(description_width='in…"
      ]
     },
     "metadata": {},
     "output_type": "display_data"
    },
    {
     "data": {
      "application/vnd.jupyter.widget-view+json": {
       "model_id": "39194942fb304ca78fe9edeb6b864064",
       "version_major": 2,
       "version_minor": 0
      },
      "text/plain": [
       "HBox(children=(IntProgress(value=0, description='Training', max=300, style=ProgressStyle(description_width='in…"
      ]
     },
     "metadata": {},
     "output_type": "display_data"
    },
    {
     "data": {
      "application/vnd.jupyter.widget-view+json": {
       "model_id": "6cb2b50751fa4b15aace29f5ac527b7d",
       "version_major": 2,
       "version_minor": 0
      },
      "text/plain": [
       "HBox(children=(IntProgress(value=0, description='Training', max=300, style=ProgressStyle(description_width='in…"
      ]
     },
     "metadata": {},
     "output_type": "display_data"
    },
    {
     "data": {
      "application/vnd.jupyter.widget-view+json": {
       "model_id": "c3d20141ec1c4d2bba6839f61a1f7e0f",
       "version_major": 2,
       "version_minor": 0
      },
      "text/plain": [
       "HBox(children=(IntProgress(value=0, description='Training', max=300, style=ProgressStyle(description_width='in…"
      ]
     },
     "metadata": {},
     "output_type": "display_data"
    },
    {
     "name": "stderr",
     "output_type": "stream",
     "text": [
      "C:\\Users\\Davide\\Anaconda3\\lib\\site-packages\\pydelfi-0.1-py3.6.egg\\pydelfi\\delfi.py:667: UserWarning: Matplotlib is currently using pdf, which is a non-GUI backend, so cannot show the figure.\n"
     ]
    },
    {
     "name": "stdout",
     "output_type": "stream",
     "text": [
      "Population 3/10\n",
      "Sampling proposal density...\n",
      "Done.\n"
     ]
    },
    {
     "data": {
      "application/vnd.jupyter.widget-view+json": {
       "model_id": "6a913a0af5b2430ca3e6a892497a4fb3",
       "version_major": 2,
       "version_minor": 0
      },
      "text/plain": [
       "HBox(children=(IntProgress(value=0, description='Simulations', max=199, style=ProgressStyle(description_width=…"
      ]
     },
     "metadata": {},
     "output_type": "display_data"
    },
    {
     "data": {
      "application/vnd.jupyter.widget-view+json": {
       "model_id": "973f612a5783493bbad1cef8bca28471",
       "version_major": 2,
       "version_minor": 0
      },
      "text/plain": [
       "HBox(children=(IntProgress(value=0, description='Training', max=300, style=ProgressStyle(description_width='in…"
      ]
     },
     "metadata": {},
     "output_type": "display_data"
    },
    {
     "data": {
      "application/vnd.jupyter.widget-view+json": {
       "model_id": "5d19f61b114f4cc49e16fe5132611764",
       "version_major": 2,
       "version_minor": 0
      },
      "text/plain": [
       "HBox(children=(IntProgress(value=0, description='Training', max=300, style=ProgressStyle(description_width='in…"
      ]
     },
     "metadata": {},
     "output_type": "display_data"
    },
    {
     "data": {
      "application/vnd.jupyter.widget-view+json": {
       "model_id": "08d48737953b4328a0ac442d22e3da31",
       "version_major": 2,
       "version_minor": 0
      },
      "text/plain": [
       "HBox(children=(IntProgress(value=0, description='Training', max=300, style=ProgressStyle(description_width='in…"
      ]
     },
     "metadata": {},
     "output_type": "display_data"
    },
    {
     "data": {
      "application/vnd.jupyter.widget-view+json": {
       "model_id": "1815348865dd449989bab3c758774feb",
       "version_major": 2,
       "version_minor": 0
      },
      "text/plain": [
       "HBox(children=(IntProgress(value=0, description='Training', max=300, style=ProgressStyle(description_width='in…"
      ]
     },
     "metadata": {},
     "output_type": "display_data"
    },
    {
     "data": {
      "application/vnd.jupyter.widget-view+json": {
       "model_id": "e59a74102a144dd28b625a008e47d31d",
       "version_major": 2,
       "version_minor": 0
      },
      "text/plain": [
       "HBox(children=(IntProgress(value=0, description='Training', max=300, style=ProgressStyle(description_width='in…"
      ]
     },
     "metadata": {},
     "output_type": "display_data"
    },
    {
     "data": {
      "application/vnd.jupyter.widget-view+json": {
       "model_id": "c3a86181ecf4446fbf64e4c141b1135a",
       "version_major": 2,
       "version_minor": 0
      },
      "text/plain": [
       "HBox(children=(IntProgress(value=0, description='Training', max=300, style=ProgressStyle(description_width='in…"
      ]
     },
     "metadata": {},
     "output_type": "display_data"
    },
    {
     "name": "stderr",
     "output_type": "stream",
     "text": [
      "C:\\Users\\Davide\\Anaconda3\\lib\\site-packages\\pydelfi-0.1-py3.6.egg\\pydelfi\\delfi.py:667: UserWarning: Matplotlib is currently using pdf, which is a non-GUI backend, so cannot show the figure.\n"
     ]
    },
    {
     "name": "stdout",
     "output_type": "stream",
     "text": [
      "Population 4/10\n",
      "Sampling proposal density...\n",
      "Done.\n"
     ]
    },
    {
     "data": {
      "application/vnd.jupyter.widget-view+json": {
       "model_id": "60ac0d3977144c9bb279926cab2f1882",
       "version_major": 2,
       "version_minor": 0
      },
      "text/plain": [
       "HBox(children=(IntProgress(value=0, description='Simulations', max=199, style=ProgressStyle(description_width=…"
      ]
     },
     "metadata": {},
     "output_type": "display_data"
    },
    {
     "data": {
      "application/vnd.jupyter.widget-view+json": {
       "model_id": "e37cdf19c8424e93b38409f7fe04b4e3",
       "version_major": 2,
       "version_minor": 0
      },
      "text/plain": [
       "HBox(children=(IntProgress(value=0, description='Training', max=300, style=ProgressStyle(description_width='in…"
      ]
     },
     "metadata": {},
     "output_type": "display_data"
    },
    {
     "data": {
      "application/vnd.jupyter.widget-view+json": {
       "model_id": "fa6a6973d605487f8c99863513306a85",
       "version_major": 2,
       "version_minor": 0
      },
      "text/plain": [
       "HBox(children=(IntProgress(value=0, description='Training', max=300, style=ProgressStyle(description_width='in…"
      ]
     },
     "metadata": {},
     "output_type": "display_data"
    },
    {
     "data": {
      "application/vnd.jupyter.widget-view+json": {
       "model_id": "4199dd18c1ad4ec089c3a4028b63adf0",
       "version_major": 2,
       "version_minor": 0
      },
      "text/plain": [
       "HBox(children=(IntProgress(value=0, description='Training', max=300, style=ProgressStyle(description_width='in…"
      ]
     },
     "metadata": {},
     "output_type": "display_data"
    },
    {
     "data": {
      "application/vnd.jupyter.widget-view+json": {
       "model_id": "3f61d0fbbd394ac4a6a058540c7ebcf8",
       "version_major": 2,
       "version_minor": 0
      },
      "text/plain": [
       "HBox(children=(IntProgress(value=0, description='Training', max=300, style=ProgressStyle(description_width='in…"
      ]
     },
     "metadata": {},
     "output_type": "display_data"
    },
    {
     "data": {
      "application/vnd.jupyter.widget-view+json": {
       "model_id": "2f07f602eb774574b7868e31aa96a7c5",
       "version_major": 2,
       "version_minor": 0
      },
      "text/plain": [
       "HBox(children=(IntProgress(value=0, description='Training', max=300, style=ProgressStyle(description_width='in…"
      ]
     },
     "metadata": {},
     "output_type": "display_data"
    },
    {
     "data": {
      "application/vnd.jupyter.widget-view+json": {
       "model_id": "2434a77f4e5640fdbe0a15125a9b3423",
       "version_major": 2,
       "version_minor": 0
      },
      "text/plain": [
       "HBox(children=(IntProgress(value=0, description='Training', max=300, style=ProgressStyle(description_width='in…"
      ]
     },
     "metadata": {},
     "output_type": "display_data"
    },
    {
     "name": "stderr",
     "output_type": "stream",
     "text": [
      "C:\\Users\\Davide\\Anaconda3\\lib\\site-packages\\pydelfi-0.1-py3.6.egg\\pydelfi\\delfi.py:667: UserWarning: Matplotlib is currently using pdf, which is a non-GUI backend, so cannot show the figure.\n"
     ]
    },
    {
     "name": "stdout",
     "output_type": "stream",
     "text": [
      "Population 5/10\n",
      "Sampling proposal density...\n",
      "Done.\n"
     ]
    },
    {
     "data": {
      "application/vnd.jupyter.widget-view+json": {
       "model_id": "ea4608ff14184cb48271fd50a27bc2fa",
       "version_major": 2,
       "version_minor": 0
      },
      "text/plain": [
       "HBox(children=(IntProgress(value=0, description='Simulations', max=199, style=ProgressStyle(description_width=…"
      ]
     },
     "metadata": {},
     "output_type": "display_data"
    },
    {
     "data": {
      "application/vnd.jupyter.widget-view+json": {
       "model_id": "0571db41ba944eb39a1b76d7a9481357",
       "version_major": 2,
       "version_minor": 0
      },
      "text/plain": [
       "HBox(children=(IntProgress(value=0, description='Training', max=300, style=ProgressStyle(description_width='in…"
      ]
     },
     "metadata": {},
     "output_type": "display_data"
    },
    {
     "data": {
      "application/vnd.jupyter.widget-view+json": {
       "model_id": "12ac4a5e647e4d939f7b908d3db179bb",
       "version_major": 2,
       "version_minor": 0
      },
      "text/plain": [
       "HBox(children=(IntProgress(value=0, description='Training', max=300, style=ProgressStyle(description_width='in…"
      ]
     },
     "metadata": {},
     "output_type": "display_data"
    },
    {
     "data": {
      "application/vnd.jupyter.widget-view+json": {
       "model_id": "19975eeea7d045c2979bf63e4feeb44e",
       "version_major": 2,
       "version_minor": 0
      },
      "text/plain": [
       "HBox(children=(IntProgress(value=0, description='Training', max=300, style=ProgressStyle(description_width='in…"
      ]
     },
     "metadata": {},
     "output_type": "display_data"
    },
    {
     "data": {
      "application/vnd.jupyter.widget-view+json": {
       "model_id": "7bd967b4224c47c3a8ed45ca87eb130c",
       "version_major": 2,
       "version_minor": 0
      },
      "text/plain": [
       "HBox(children=(IntProgress(value=0, description='Training', max=300, style=ProgressStyle(description_width='in…"
      ]
     },
     "metadata": {},
     "output_type": "display_data"
    },
    {
     "data": {
      "application/vnd.jupyter.widget-view+json": {
       "model_id": "65626e721c0945b9b7787f3f1d42d76c",
       "version_major": 2,
       "version_minor": 0
      },
      "text/plain": [
       "HBox(children=(IntProgress(value=0, description='Training', max=300, style=ProgressStyle(description_width='in…"
      ]
     },
     "metadata": {},
     "output_type": "display_data"
    },
    {
     "data": {
      "application/vnd.jupyter.widget-view+json": {
       "model_id": "8a8171a5f7cc45d4897704e70097e69a",
       "version_major": 2,
       "version_minor": 0
      },
      "text/plain": [
       "HBox(children=(IntProgress(value=0, description='Training', max=300, style=ProgressStyle(description_width='in…"
      ]
     },
     "metadata": {},
     "output_type": "display_data"
    },
    {
     "name": "stderr",
     "output_type": "stream",
     "text": [
      "C:\\Users\\Davide\\Anaconda3\\lib\\site-packages\\pydelfi-0.1-py3.6.egg\\pydelfi\\delfi.py:667: UserWarning: Matplotlib is currently using pdf, which is a non-GUI backend, so cannot show the figure.\n"
     ]
    },
    {
     "name": "stdout",
     "output_type": "stream",
     "text": [
      "Population 6/10\n",
      "Sampling proposal density...\n",
      "Done.\n"
     ]
    },
    {
     "data": {
      "application/vnd.jupyter.widget-view+json": {
       "model_id": "bf0f0c84772b45aab8462bc23e601f93",
       "version_major": 2,
       "version_minor": 0
      },
      "text/plain": [
       "HBox(children=(IntProgress(value=0, description='Simulations', max=199, style=ProgressStyle(description_width=…"
      ]
     },
     "metadata": {},
     "output_type": "display_data"
    },
    {
     "data": {
      "application/vnd.jupyter.widget-view+json": {
       "model_id": "67529e48209546abacd043e7d37dd740",
       "version_major": 2,
       "version_minor": 0
      },
      "text/plain": [
       "HBox(children=(IntProgress(value=0, description='Training', max=300, style=ProgressStyle(description_width='in…"
      ]
     },
     "metadata": {},
     "output_type": "display_data"
    },
    {
     "data": {
      "application/vnd.jupyter.widget-view+json": {
       "model_id": "16acf677514d4aa88be8b5c3fa0a7635",
       "version_major": 2,
       "version_minor": 0
      },
      "text/plain": [
       "HBox(children=(IntProgress(value=0, description='Training', max=300, style=ProgressStyle(description_width='in…"
      ]
     },
     "metadata": {},
     "output_type": "display_data"
    },
    {
     "data": {
      "application/vnd.jupyter.widget-view+json": {
       "model_id": "17411946d824460e8a16571b3506ec00",
       "version_major": 2,
       "version_minor": 0
      },
      "text/plain": [
       "HBox(children=(IntProgress(value=0, description='Training', max=300, style=ProgressStyle(description_width='in…"
      ]
     },
     "metadata": {},
     "output_type": "display_data"
    },
    {
     "data": {
      "application/vnd.jupyter.widget-view+json": {
       "model_id": "fcba936a5d134586bbfa378babf32611",
       "version_major": 2,
       "version_minor": 0
      },
      "text/plain": [
       "HBox(children=(IntProgress(value=0, description='Training', max=300, style=ProgressStyle(description_width='in…"
      ]
     },
     "metadata": {},
     "output_type": "display_data"
    },
    {
     "data": {
      "application/vnd.jupyter.widget-view+json": {
       "model_id": "6c0078d2ef22463c84cdc090b832c8ee",
       "version_major": 2,
       "version_minor": 0
      },
      "text/plain": [
       "HBox(children=(IntProgress(value=0, description='Training', max=300, style=ProgressStyle(description_width='in…"
      ]
     },
     "metadata": {},
     "output_type": "display_data"
    },
    {
     "data": {
      "application/vnd.jupyter.widget-view+json": {
       "model_id": "146ac9e3d1d34f94957f3380fe462f5a",
       "version_major": 2,
       "version_minor": 0
      },
      "text/plain": [
       "HBox(children=(IntProgress(value=0, description='Training', max=300, style=ProgressStyle(description_width='in…"
      ]
     },
     "metadata": {},
     "output_type": "display_data"
    },
    {
     "name": "stderr",
     "output_type": "stream",
     "text": [
      "C:\\Users\\Davide\\Anaconda3\\lib\\site-packages\\pydelfi-0.1-py3.6.egg\\pydelfi\\delfi.py:667: UserWarning: Matplotlib is currently using pdf, which is a non-GUI backend, so cannot show the figure.\n"
     ]
    },
    {
     "name": "stdout",
     "output_type": "stream",
     "text": [
      "Population 7/10\n",
      "Sampling proposal density...\n",
      "Done.\n"
     ]
    },
    {
     "data": {
      "application/vnd.jupyter.widget-view+json": {
       "model_id": "a8461d7cb2094ccf9b3e52a2f0f5a895",
       "version_major": 2,
       "version_minor": 0
      },
      "text/plain": [
       "HBox(children=(IntProgress(value=0, description='Simulations', max=199, style=ProgressStyle(description_width=…"
      ]
     },
     "metadata": {},
     "output_type": "display_data"
    },
    {
     "data": {
      "application/vnd.jupyter.widget-view+json": {
       "model_id": "6224460a3bb1466281a2039931daebdb",
       "version_major": 2,
       "version_minor": 0
      },
      "text/plain": [
       "HBox(children=(IntProgress(value=0, description='Training', max=300, style=ProgressStyle(description_width='in…"
      ]
     },
     "metadata": {},
     "output_type": "display_data"
    },
    {
     "data": {
      "application/vnd.jupyter.widget-view+json": {
       "model_id": "63047c14aab741df97a1a249005e73ce",
       "version_major": 2,
       "version_minor": 0
      },
      "text/plain": [
       "HBox(children=(IntProgress(value=0, description='Training', max=300, style=ProgressStyle(description_width='in…"
      ]
     },
     "metadata": {},
     "output_type": "display_data"
    },
    {
     "data": {
      "application/vnd.jupyter.widget-view+json": {
       "model_id": "731ae1f2f65c430bbbe89e8a96735290",
       "version_major": 2,
       "version_minor": 0
      },
      "text/plain": [
       "HBox(children=(IntProgress(value=0, description='Training', max=300, style=ProgressStyle(description_width='in…"
      ]
     },
     "metadata": {},
     "output_type": "display_data"
    },
    {
     "data": {
      "application/vnd.jupyter.widget-view+json": {
       "model_id": "fe11f632ee454dba8ef12075b813674b",
       "version_major": 2,
       "version_minor": 0
      },
      "text/plain": [
       "HBox(children=(IntProgress(value=0, description='Training', max=300, style=ProgressStyle(description_width='in…"
      ]
     },
     "metadata": {},
     "output_type": "display_data"
    },
    {
     "data": {
      "application/vnd.jupyter.widget-view+json": {
       "model_id": "a2b8992e632349218b9f7d0a1fc3c1e2",
       "version_major": 2,
       "version_minor": 0
      },
      "text/plain": [
       "HBox(children=(IntProgress(value=0, description='Training', max=300, style=ProgressStyle(description_width='in…"
      ]
     },
     "metadata": {},
     "output_type": "display_data"
    },
    {
     "data": {
      "application/vnd.jupyter.widget-view+json": {
       "model_id": "992724c0b4434b57aeaa73c5a327e0b5",
       "version_major": 2,
       "version_minor": 0
      },
      "text/plain": [
       "HBox(children=(IntProgress(value=0, description='Training', max=300, style=ProgressStyle(description_width='in…"
      ]
     },
     "metadata": {},
     "output_type": "display_data"
    },
    {
     "name": "stderr",
     "output_type": "stream",
     "text": [
      "C:\\Users\\Davide\\Anaconda3\\lib\\site-packages\\pydelfi-0.1-py3.6.egg\\pydelfi\\delfi.py:667: UserWarning: Matplotlib is currently using pdf, which is a non-GUI backend, so cannot show the figure.\n"
     ]
    },
    {
     "name": "stdout",
     "output_type": "stream",
     "text": [
      "Population 8/10\n",
      "Sampling proposal density...\n",
      "Done.\n"
     ]
    },
    {
     "data": {
      "application/vnd.jupyter.widget-view+json": {
       "model_id": "28e157414b0e4023bc31ac3fd7b638fe",
       "version_major": 2,
       "version_minor": 0
      },
      "text/plain": [
       "HBox(children=(IntProgress(value=0, description='Simulations', max=199, style=ProgressStyle(description_width=…"
      ]
     },
     "metadata": {},
     "output_type": "display_data"
    },
    {
     "data": {
      "application/vnd.jupyter.widget-view+json": {
       "model_id": "6bb32d315df64678b0d659b4b630ad9a",
       "version_major": 2,
       "version_minor": 0
      },
      "text/plain": [
       "HBox(children=(IntProgress(value=0, description='Training', max=300, style=ProgressStyle(description_width='in…"
      ]
     },
     "metadata": {},
     "output_type": "display_data"
    }
   ],
   "source": [
    "n_initial = 200\n",
    "n_batch = 200\n",
    "n_populations = 10\n",
    "\n",
    "# how many data points are we using?!\n",
    "# apparently, n_initial+n_batch*n_populations = 2200 in this case?\n",
    "\n",
    "DelfiEnsemble.sequential_training(simulator, compressor, n_initial, n_batch, n_populations, patience=20,\n",
    "                       save_intermediate_posteriors=False)"
   ]
  },
  {
   "cell_type": "code",
   "execution_count": null,
   "metadata": {},
   "outputs": [],
   "source": [
    "# this should give us the log-likelihood\n",
    "compressed_data = summary_obs[0]  # this should be the point in which we introduce our observation\n",
    "n_bins = 50\n",
    "likelihood_arr_pd = np.zeros((n_bins*n_bins, 3))\n",
    "index = 0\n",
    "for omega in xx:\n",
    "    for w in yy:\n",
    "        likelihood_arr_pd[index, :] = omega, w, DelfiEnsemble.log_likelihood_stacked([omega, w], compressed_data)\n",
    "        index += 1"
   ]
  },
  {
   "cell_type": "code",
   "execution_count": null,
   "metadata": {},
   "outputs": [],
   "source": [
    "likelihood_arr_pd = np.reshape(np.asarray(likelihood_arr_pd), (-1, 3))\n",
    "likelihood_arr_pd[:, 2] = np.exp(likelihood_arr_pd[:, 2])  # return to likelihood\n",
    "like_norm = np.sum(likelihood_arr_pd[:, 2])\n",
    "likelihood_arr_pd[:, 2] = likelihood_arr_pd[:, 2] / like_norm"
   ]
  },
  {
   "cell_type": "code",
   "execution_count": null,
   "metadata": {},
   "outputs": [],
   "source": [
    "from chainconsumer import ChainConsumer\n",
    "xs = likelihood_arr[:, 0]\n",
    "ys = likelihood_arr[:, 1]\n",
    "#ys = ys/np.sqrt(xs/0.3)\n",
    "pdf_flat = likelihood_arr[:, 2]\n",
    "\n",
    "#xs_pd = likelihood_arr_pd[:, 0]\n",
    "#ys_pd = likelihood_arr_pd[:, 1]\n",
    "#ys = ys/np.sqrt(xs/0.3)\n",
    "#pdf_flat_pd = likelihood_arr_pd[:, 2]\n",
    "\n",
    "c = ChainConsumer()\n",
    "c.add_chain([xs, ys], parameters=[\"$\\Omega_m$\", \"$w$\"], weights=pdf_flat, grid=True, name='GLC')\n",
    "#c.add_chain([xs_pd, ys_pd], parameters=[\"$\\Omega_m$\", \"$w$\"], weights=pdf_flat_pd, grid=True, name='pydelfi')\n",
    "c.configure(smooth=1.0) #Notice how smoothing changes the results!\n",
    "fig = c.plotter.plot(truth=[theta_fiducial[0], theta_fiducial[1]])\n",
    "\n",
    "fig.set_size_inches(4.5 + fig.get_size_inches())  "
   ]
  },
  {
   "cell_type": "code",
   "execution_count": null,
   "metadata": {},
   "outputs": [],
   "source": []
  },
  {
   "cell_type": "code",
   "execution_count": null,
   "metadata": {},
   "outputs": [],
   "source": [
    "# TO DO\n",
    "# 0. Check behaviour of Cinv at different thetas - hopefully that is constant?\n",
    "# --> it is constant if we only vary the first two cosmological parameters\n",
    "# 1. Compare at different d_obs, and understand what is d_obs for pydelfi\n",
    "# 2. Properly understand how many sims is pydelfi using - does it change if we change n_initial, n_population and n_batch?\n",
    "# 3. Worth going to a full 6-dimensional space?"
   ]
  },
  {
   "cell_type": "code",
   "execution_count": 100,
   "metadata": {},
   "outputs": [],
   "source": [
    "class JLA_Model_testCinv():\n",
    "\n",
    "    def __init__(self, theta_fiducial, jla_data_path = 'simulators/jla_supernovae/jla_data/'):\n",
    "\n",
    "        # Import data\n",
    "        jla_data, jla_cmats = jla_parser.b14_parse(z_min=None, z_max=None, qual_cut=False,\n",
    "                                           jla_path='simulators/jla_supernovae/jla_data/')\n",
    "        self.data = jla_data['mb']\n",
    "        delta_m_cut = 10\n",
    "        self.auxiliary_data = np.column_stack([jla_data['zcmb'], jla_data['x1'], jla_data['color'], np.array([(jla_data['3rdvar'] > delta_m_cut)], dtype=int)[0]])\n",
    "\n",
    "        # Om, w0, M_b, alpha, beta, delta_m\n",
    "        self.npar = 2\n",
    "        self.theta_fiducial = theta_fiducial\n",
    "\n",
    "        # Covariance matrix\n",
    "        self.C = jla_parser.b14_covariance(jla_data, jla_cmats, self.theta_fiducial[3], self.theta_fiducial[4])\n",
    "        self.Cinv = np.linalg.inv(self.C)"
   ]
  },
  {
   "cell_type": "code",
   "execution_count": 102,
   "metadata": {},
   "outputs": [],
   "source": [
    "theta_fid = np.array([  0.20181324,  -0.74762939, -19.04253368,   0.12566322,   2.64387045, -0.05252869])\n",
    "a = JLA_Model_testCinv(theta_fid)"
   ]
  },
  {
   "cell_type": "code",
   "execution_count": 103,
   "metadata": {},
   "outputs": [
    {
     "data": {
      "text/plain": [
       "(740, 740)"
      ]
     },
     "execution_count": 103,
     "metadata": {},
     "output_type": "execute_result"
    }
   ],
   "source": [
    "a.Cinv.shape"
   ]
  },
  {
   "cell_type": "code",
   "execution_count": 117,
   "metadata": {},
   "outputs": [],
   "source": [
    "theta_fid = np.array([  0.20181324,  -0.74762939, -19.04253368,   1.12566322,   2.64387045, -0.05252869])\n",
    "b = JLA_Model_testCinv(theta_fid)"
   ]
  },
  {
   "cell_type": "code",
   "execution_count": 118,
   "metadata": {},
   "outputs": [
    {
     "data": {
      "text/plain": [
       "(740, 740)"
      ]
     },
     "execution_count": 118,
     "metadata": {},
     "output_type": "execute_result"
    }
   ],
   "source": [
    "b.Cinv.shape"
   ]
  },
  {
   "cell_type": "code",
   "execution_count": 119,
   "metadata": {},
   "outputs": [
    {
     "data": {
      "text/plain": [
       "array([[ 8.01273887e+01, -7.70082159e-01, -3.19060874e-01, ...,\n",
       "        -4.33183636e-02,  1.07164765e-02,  4.66968233e-02],\n",
       "       [-7.70082159e-01,  6.10085417e+01, -5.91209765e-02, ...,\n",
       "        -2.82766265e-02,  4.26234745e-02,  5.67095498e-02],\n",
       "       [-3.19060874e-01, -5.91209765e-02,  8.20992098e+01, ...,\n",
       "         6.09463412e-02, -1.16135435e-01, -1.92494469e-01],\n",
       "       ...,\n",
       "       [-4.33183636e-02, -2.82766265e-02,  6.09463412e-02, ...,\n",
       "         3.44435747e+01, -2.19777166e-01, -4.52723949e-01],\n",
       "       [ 1.07164765e-02,  4.26234745e-02, -1.16135435e-01, ...,\n",
       "        -2.19777166e-01,  3.42279506e+01, -5.70190001e-02],\n",
       "       [ 4.66968233e-02,  5.67095498e-02, -1.92494469e-01, ...,\n",
       "        -4.52723949e-01, -5.70190001e-02,  4.39634191e+01]])"
      ]
     },
     "execution_count": 119,
     "metadata": {},
     "output_type": "execute_result"
    }
   ],
   "source": [
    "a.Cinv"
   ]
  },
  {
   "cell_type": "code",
   "execution_count": 120,
   "metadata": {},
   "outputs": [
    {
     "data": {
      "text/plain": [
       "array([[ 2.30400540e+01, -7.66745505e-02, -3.60762163e-01, ...,\n",
       "         7.57195393e-03,  7.39352061e-02,  7.88706803e-02],\n",
       "       [-7.66745505e-02,  9.21564724e+00,  4.62209054e-02, ...,\n",
       "        -5.51082573e-03,  2.70920459e-02,  3.61555500e-02],\n",
       "       [-3.60762163e-01,  4.62209054e-02,  3.50208554e+01, ...,\n",
       "         1.16975690e-01, -1.83911276e-01, -2.36067425e-01],\n",
       "       ...,\n",
       "       [ 7.57195393e-03, -5.51082573e-03,  1.16975690e-01, ...,\n",
       "         3.08613715e+01, -2.71639078e-01, -4.37725482e-01],\n",
       "       [ 7.39352061e-02,  2.70920459e-02, -1.83911276e-01, ...,\n",
       "        -2.71639078e-01,  3.02944450e+01, -2.88987515e-01],\n",
       "       [ 7.88706803e-02,  3.61555500e-02, -2.36067425e-01, ...,\n",
       "        -4.37725482e-01, -2.88987515e-01,  3.33179137e+01]])"
      ]
     },
     "execution_count": 120,
     "metadata": {},
     "output_type": "execute_result"
    }
   ],
   "source": [
    "b.Cinv"
   ]
  },
  {
   "cell_type": "code",
   "execution_count": 116,
   "metadata": {},
   "outputs": [
    {
     "data": {
      "text/plain": [
       "array([[ True,  True,  True, ...,  True,  True,  True],\n",
       "       [ True,  True,  True, ...,  True,  True,  True],\n",
       "       [ True,  True,  True, ...,  True,  True,  True],\n",
       "       ...,\n",
       "       [ True,  True,  True, ...,  True,  True,  True],\n",
       "       [ True,  True,  True, ...,  True,  True,  True],\n",
       "       [ True,  True,  True, ...,  True,  True,  True]])"
      ]
     },
     "execution_count": 116,
     "metadata": {},
     "output_type": "execute_result"
    }
   ],
   "source": [
    "a.Cinv==b.Cinv"
   ]
  },
  {
   "cell_type": "code",
   "execution_count": null,
   "metadata": {},
   "outputs": [],
   "source": []
  },
  {
   "cell_type": "code",
   "execution_count": null,
   "metadata": {},
   "outputs": [],
   "source": []
  },
  {
   "cell_type": "code",
   "execution_count": null,
   "metadata": {},
   "outputs": [],
   "source": []
  },
  {
   "cell_type": "code",
   "execution_count": null,
   "metadata": {},
   "outputs": [],
   "source": []
  }
 ],
 "metadata": {
  "kernelspec": {
   "display_name": "Python 3",
   "language": "python",
   "name": "python3"
  },
  "language_info": {
   "codemirror_mode": {
    "name": "ipython",
    "version": 3
   },
   "file_extension": ".py",
   "mimetype": "text/x-python",
   "name": "python",
   "nbconvert_exporter": "python",
   "pygments_lexer": "ipython3",
   "version": "3.6.9"
  }
 },
 "nbformat": 4,
 "nbformat_minor": 1
}
