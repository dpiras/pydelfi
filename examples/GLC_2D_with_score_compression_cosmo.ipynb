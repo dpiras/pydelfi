{
 "cells": [
  {
   "cell_type": "markdown",
   "metadata": {},
   "source": [
    "This is the first draft of the Gaussian Likelihood compressor, a tool which takes some data as an input, and compresses them to a lower dimensional space where the likelihood is simply Gaussian.\n",
    "\n",
    "In this notebook, you can find 3 tools: first of all, a way to generate the data in order to perform your experiments. \n",
    "\n",
    "Then, a compressor, which at this stage could either be an auto-encoder, an Information Maximising Neural Network, or Score Compression in all its various forms.\n",
    "\n",
    "Finally, we apply a Normalising Flow to map it to a standard Gaussian."
   ]
  },
  {
   "cell_type": "markdown",
   "metadata": {},
   "source": [
    "# Data generation"
   ]
  },
  {
   "cell_type": "code",
   "execution_count": 1,
   "metadata": {},
   "outputs": [],
   "source": [
    "# we write here the script to create our dataset, taken primarily from zupcx26 code\n",
    "# we will add modules to import progressively "
   ]
  },
  {
   "cell_type": "code",
   "execution_count": 2,
   "metadata": {},
   "outputs": [],
   "source": [
    "import numpy as np\n",
    "import matplotlib.pyplot as plt\n",
    "import tensorflow as tf\n",
    "import tensorflow_probability as tfp\n",
    "import pydelfi.score as score\n",
    "\n",
    "tfd = tfp.distributions\n",
    "tfb = tfp.bijectors\n",
    "\n",
    "%matplotlib inline"
   ]
  },
  {
   "cell_type": "code",
   "execution_count": 3,
   "metadata": {},
   "outputs": [],
   "source": [
    "# we define a few hyper parameters here\n",
    "np.random.seed(13)\n",
    "n = 1000 # total number of data points for NF\n",
    "n_sims = 2500  # total number of points for drawing posterior\n",
    "n_class = 1 # number of different cosmologies for the training"
   ]
  },
  {
   "cell_type": "code",
   "execution_count": 4,
   "metadata": {},
   "outputs": [],
   "source": [
    "# in order to perform the compressions, we need a few things\n",
    "n_vec = 49\n",
    "q_fid = [0.5, 0.7]\n",
    "mul_mode_fac = 10 # factor multiplied to k and divided in theta to shrink error bars\n",
    "Cl_fid = np.loadtxt('./power_spectra/der_power_spectrum_0.dat')[2:, 1] # at the fiducial value\n",
    "mu = np.asarray(Cl_fid)\n",
    "Cinv = mul_mode_fac*(2*np.arange(n_vec)+1) * np.eye(n_vec)/ (2*Cl_fid**2)\n",
    "# now with the derivatives\n",
    "mu_p1 = np.loadtxt('./power_spectra/der_power_spectrum_1.dat')[2:, 1]\n",
    "mu_p2 = np.loadtxt('./power_spectra/der_power_spectrum_2.dat')[2:, 1]\n",
    "h = 0.01\n",
    "dmudt = np.zeros([2, n_vec])\n",
    "dmudt[0] = (mu_p1 - mu)/h\n",
    "dmudt[1] = (mu_p2 - mu)/h\n",
    "#dmudt = np.reshape(dmudt, [2, -1])\n",
    "\n",
    "# now we define the score compression\n",
    "Compressor = score.Gaussian(n_vec, q_fid, mu = mu, Cinv = Cinv, dmudt = dmudt)\n",
    "Compressor.compute_fisher()\n",
    "Finv = Compressor.Finv\n",
    "\n",
    "def compressor(d, compressor_args=None):\n",
    "    return Compressor.scoreMLE(d)\n",
    "compressor_args=None"
   ]
  },
  {
   "cell_type": "code",
   "execution_count": 5,
   "metadata": {},
   "outputs": [
    {
     "data": {
      "text/plain": [
       "<matplotlib.image.AxesImage at 0x20f94a572e8>"
      ]
     },
     "execution_count": 5,
     "metadata": {},
     "output_type": "execute_result"
    },
    {
     "data": {
      "image/png": "[encoded data removed]",
      "text/plain": [
       "<Figure size 432x288 with 1 Axes>"
      ]
     },
     "metadata": {
      "needs_background": "light"
     },
     "output_type": "display_data"
    }
   ],
   "source": [
    "fig, ax = plt.subplots(nrows=1, ncols=1)\n",
    "ax.imshow(Cinv)\n",
    "#ax[1].imshow(Cinv_)"
   ]
  },
  {
   "cell_type": "code",
   "execution_count": 6,
   "metadata": {},
   "outputs": [
    {
     "data": {
      "text/plain": [
       "[<matplotlib.lines.Line2D at 0x20fb6d4b8d0>]"
      ]
     },
     "execution_count": 6,
     "metadata": {},
     "output_type": "execute_result"
    },
    {
     "data": {
      "image/png": "[encoded data removed]",
      "text/plain": [
       "<Figure size 432x288 with 1 Axes>"
      ]
     },
     "metadata": {
      "needs_background": "light"
     },
     "output_type": "display_data"
    }
   ],
   "source": [
    "fig, ax = plt.subplots(nrows=1, ncols=1)\n",
    "ax.plot(np.arange(n_vec), dmudt[0])\n",
    "ax.plot(np.arange(n_vec), dmudt[1])"
   ]
  },
  {
   "cell_type": "code",
   "execution_count": 7,
   "metadata": {},
   "outputs": [
    {
     "data": {
      "image/png": "[encoded data removed]",
      "text/plain": [
       "<Figure size 432x288 with 1 Axes>"
      ]
     },
     "metadata": {
      "needs_background": "light"
     },
     "output_type": "display_data"
    }
   ],
   "source": [
    "fig, ax = plt.subplots(nrows=1, ncols=1)\n",
    "ax.loglog(np.arange(n_vec), mu)\n",
    "ax.loglog(np.arange(n_vec), mu_p1)\n",
    "ax.loglog(np.arange(n_vec), mu_p2);"
   ]
  },
  {
   "cell_type": "code",
   "execution_count": 8,
   "metadata": {},
   "outputs": [],
   "source": [
    "#print(mu, mu_p1, mu_p2)"
   ]
  },
  {
   "cell_type": "code",
   "execution_count": 9,
   "metadata": {},
   "outputs": [
    {
     "name": "stdout",
     "output_type": "stream",
     "text": [
      "(2500, 49) (1, 49)\n"
     ]
    }
   ],
   "source": [
    "# we now create the data needed for the normalising flow\n",
    "# we create the observed data point, for now at the fiducial value of q\n",
    "#q_fid = q_fid  # new observation, different from the compression\n",
    "np.random.seed(13)\n",
    "lmax = 50\n",
    "#obs_idx = 500\n",
    "#q_obs = np.loadtxt('./power_spectra/parameters_rep_wider.txt')[obs_idx]\n",
    "#d_vec_obs = np.loadtxt(f'./power_spectra/power_spectrum_{obs_idx}.dat')[2:, 1]\n",
    "#d_vec_obs = np.reshape(d_vec_obs, [1, -1])\n",
    "q_obs = [0.5, 0.7] #np.loadtxt('./power_spectra/parameters_rep_wider.txt')[n_sims]\n",
    "d_vec_obs = np.zeros((1, n_vec)) \n",
    "for index in range(1):\n",
    "    load = np.loadtxt('./power_spectra/der_power_spectrum_0.dat') #np.loadtxt('./power_spectra/power_spectrum_1000.dat')[2:, 1]\n",
    "    cls = load[:, 1]\n",
    "    single = []\n",
    "    for ell in range(2, lmax+1):\n",
    "        shape = mul_mode_fac*(2*ell+1)/2\n",
    "        location = 2*cls[ell]/(mul_mode_fac*(2*ell+1))\n",
    "        single.append(np.random.gamma(shape, location))\n",
    "    d_vec_obs[index] = single\n",
    "d_vec_obs = load[2:, 1]\n",
    "d_vec_obs = np.reshape(d_vec_obs, [1, -1])\n",
    "\n",
    "# we also create the data corresponding to a fixed noise, but different q\n",
    "d_vec_q = np.zeros((n_sims, n_vec))\n",
    "n_bins = 50\n",
    "xx = np.linspace(0.15, 1.10, n_bins, endpoint=True) #np.random.uniform(0, 1, n)\n",
    "yy = np.linspace(0.55, 1.10, n_bins, endpoint=True) #np.random.uniform(0, 1, n)\n",
    "index = 0\n",
    "q_prior = np.zeros((n_bins*n_bins, 2))\n",
    "for i in xx:\n",
    "    for j in yy:\n",
    "        load = np.loadtxt(f'./power_spectra/power_spectrum_{i}_{j}.dat')\n",
    "        cls = load[:, 1]\n",
    "        single = []\n",
    "        for ell in range(2, lmax+1):\n",
    "            shape = mul_mode_fac*(2*ell+1)/2\n",
    "            location = 2*cls[ell]/(mul_mode_fac*(2*ell+1))\n",
    "            np.random.seed(ell)\n",
    "            single.append(np.random.gamma(shape, location))\n",
    "        d_vec_q[index] = single\n",
    "        q_prior[index, :] = i, j\n",
    "        index += 1\n",
    "    \n",
    "d_vec_obs_keep = np.copy(d_vec_obs)\n",
    "print(d_vec_q.shape, d_vec_obs.shape)"
   ]
  },
  {
   "cell_type": "code",
   "execution_count": 10,
   "metadata": {},
   "outputs": [
    {
     "data": {
      "text/plain": [
       "array([[4.05544883e-09, 2.51520125e-09, 1.76174059e-09, 1.32484775e-09,\n",
       "        1.04232866e-09, 8.46713718e-10, 7.04435472e-10, 5.96957392e-10,\n",
       "        5.13315749e-10, 4.22075968e-10, 3.70150522e-10, 3.27437263e-10,\n",
       "        2.91827054e-10, 2.61790550e-10, 2.36197987e-10, 2.14196635e-10,\n",
       "        1.95055549e-10, 1.78494749e-10, 1.63875210e-10, 1.50975302e-10,\n",
       "        1.39497284e-10, 1.29288794e-10, 1.20117827e-10, 1.11880359e-10,\n",
       "        1.04431392e-10, 9.76851476e-11, 9.15289014e-11, 8.59333795e-11,\n",
       "        8.08404252e-11, 7.61484519e-11, 7.18348431e-11, 6.78706606e-11,\n",
       "        6.42022157e-11, 6.08118594e-11, 5.76734559e-11, 5.47473820e-11,\n",
       "        5.20268660e-11, 4.95040107e-11, 4.71556766e-11, 4.49517301e-11,\n",
       "        4.28862272e-11, 4.09541319e-11, 3.91419439e-11, 3.74326466e-11,\n",
       "        3.58239131e-11, 3.43141908e-11, 3.28972045e-11, 3.15616033e-11,\n",
       "        3.02944512e-11]])"
      ]
     },
     "execution_count": 10,
     "metadata": {},
     "output_type": "execute_result"
    }
   ],
   "source": [
    "d_vec_obs"
   ]
  },
  {
   "cell_type": "code",
   "execution_count": 11,
   "metadata": {},
   "outputs": [],
   "source": [
    "# we create here the data to compress and to feed to the NF\n",
    "d_vec = np.zeros((n, n_vec))\n",
    "lmax = 50\n",
    "for index in range(n):\n",
    "    load = np.loadtxt(f'./power_spectra/der_power_spectrum_0.dat')\n",
    "    cls = load[:, 1]\n",
    "    single = []\n",
    "    for ell in range(2, lmax+1):\n",
    "        shape = mul_mode_fac*(2*ell+1)/2\n",
    "        location = 2*cls[ell]/(mul_mode_fac*(2*ell+1))\n",
    "        single.append(np.random.gamma(shape, location))\n",
    "    d_vec[index] = single\n",
    "    \n",
    "# we create here the data to compress and to feed to the NF\n",
    "d_vec_keep_copy = np.zeros((n, n_vec))\n",
    "obs_idx = 300\n",
    "for index in range(n):\n",
    "    load = np.loadtxt(f'./power_spectra/power_spectrum_{obs_idx}.dat')\n",
    "    cls = load[:, 1]\n",
    "    single = []\n",
    "    for ell in range(2, lmax+1):\n",
    "        shape = mul_mode_fac*(2*ell+1)/2\n",
    "        location = 2*cls[ell]/(mul_mode_fac*(2*ell+1))\n",
    "        single.append(np.random.gamma(shape, location))\n",
    "    d_vec_keep_copy[index] = single\n",
    "\n",
    "# we also create the data corresponding to fixed noise, at the fiducial q\n",
    "d_vec_q_shift = np.zeros((1, n_vec))\n",
    "for index in range(1):\n",
    "    load = np.loadtxt('./power_spectra/der_power_spectrum_0.dat')\n",
    "    cls = load[:, 1]\n",
    "    single = []\n",
    "    for ell in range(2, lmax+1):\n",
    "        shape = mul_mode_fac*(2*ell+1)/2\n",
    "        location = 2*cls[ell]/(mul_mode_fac*(2*ell+1))\n",
    "        np.random.seed(ell)\n",
    "        single.append(np.random.gamma(shape, location))\n",
    "    d_vec_q_shift[index] = single"
   ]
  },
  {
   "cell_type": "code",
   "execution_count": 12,
   "metadata": {},
   "outputs": [
    {
     "data": {
      "image/png": "[encoded data removed]",
      "text/plain": [
       "<Figure size 720x1080 with 1 Axes>"
      ]
     },
     "metadata": {
      "needs_background": "light"
     },
     "output_type": "display_data"
    }
   ],
   "source": [
    "# we plot a few things to make sure everything is good\n",
    "plt.figure(figsize=(10, 15))\n",
    "for index in [500, 2402]:\n",
    "    plt.loglog(np.arange(n_vec), d_vec_q[index], label=q_prior[index])\n",
    "    #print(d_vec_q[index][40])\n",
    "for index in range(3):\n",
    "    plt.loglog(np.arange(n_vec), d_vec[index],)\n",
    "plt.loglog(np.arange(n_vec), d_vec_q_shift[0], label='Shifted')\n",
    "plt.loglog(np.arange(n_vec), d_vec_obs[0], label='Observation', linestyle = '--')\n",
    "plt.legend();"
   ]
  },
  {
   "cell_type": "code",
   "execution_count": 13,
   "metadata": {},
   "outputs": [
    {
     "name": "stdout",
     "output_type": "stream",
     "text": [
      "3.28792173331001e-11\n",
      "6.790391082220988e-12\n"
     ]
    }
   ],
   "source": [
    "# std dev test\n",
    "ell = 10\n",
    "print(np.std(d_vec[:, ell]))\n",
    "print(np.std(d_vec_keep_copy[:, ell]))"
   ]
  },
  {
   "cell_type": "code",
   "execution_count": 14,
   "metadata": {},
   "outputs": [],
   "source": [
    "# we need to retrieve all the needed summaries here, so:\n",
    "# 1) the summaries of the fixed noise vectors\n",
    "# 2) the summary of the observation\n",
    "# 3) the summaries of the noise realisations at the fiducial point\n",
    "# 4) the summary of the shift vector, i.e. the fixed noise at the fiducial value\n",
    "summaries_posterior = []\n",
    "for index in range(n_sims):\n",
    "    summaries_posterior.append(compressor(d_vec_q[index]))  # it should be in the whole prior \n",
    "summaries_posterior = np.asarray(summaries_posterior)\n",
    "\n",
    "summaries_noise = []\n",
    "for index in range(n):\n",
    "    summaries_noise.append(compressor(d_vec[index]))  # it should be at 1.5\n",
    "summaries_noise = np.asarray(summaries_noise)\n",
    "\n",
    "summaries_noise_kept = []\n",
    "for index in range(n):\n",
    "    summaries_noise_kept.append(compressor(d_vec_keep_copy[index]))  # it should be at 1.2\n",
    "summaries_noise_kept = np.asarray(summaries_noise_kept)\n",
    "\n",
    "summary_obs = compressor(d_vec_obs[0])  # it should be at 1.5\n",
    "summary_obs = np.reshape(summary_obs, [1, -1])\n",
    "\n",
    "summary_shift = compressor(d_vec_q_shift[0])  # it should be at 1.5\n",
    "summary_shift = np.reshape(summary_shift, [1, -1])\n",
    "\n",
    "#summary_shift_kept = compressor(d_vec_shift_keep_copy[0])  # it should be at 0.2\n",
    "#summary_shift_kept = np.reshape(summary_shift_kept, [1, 1])"
   ]
  },
  {
   "cell_type": "code",
   "execution_count": 15,
   "metadata": {},
   "outputs": [
    {
     "data": {
      "text/plain": [
       "array([0.5, 0.7])"
      ]
     },
     "execution_count": 15,
     "metadata": {},
     "output_type": "execute_result"
    }
   ],
   "source": [
    "compressor(d_vec_obs[0])"
   ]
  },
  {
   "cell_type": "code",
   "execution_count": 16,
   "metadata": {},
   "outputs": [
    {
     "data": {
      "text/plain": [
       "array([[-3.4728589 ,  0.64195665],\n",
       "       [-3.63671256,  0.65389553],\n",
       "       [-3.80383547,  0.66607261],\n",
       "       ...,\n",
       "       [ 0.59890992,  0.58687903],\n",
       "       [ 0.60098121,  0.5917876 ],\n",
       "       [ 0.60307403,  0.59674717]])"
      ]
     },
     "execution_count": 16,
     "metadata": {},
     "output_type": "execute_result"
    }
   ],
   "source": [
    "summaries_posterior"
   ]
  },
  {
   "cell_type": "code",
   "execution_count": 17,
   "metadata": {},
   "outputs": [],
   "source": [
    "# now we plot a few things to make sure everything makes sense"
   ]
  },
  {
   "cell_type": "code",
   "execution_count": 18,
   "metadata": {
    "scrolled": false
   },
   "outputs": [
    {
     "name": "stdout",
     "output_type": "stream",
     "text": [
      "0.06798430637349225\n",
      "0.01903725448884742\n"
     ]
    },
    {
     "data": {
      "image/png": "[encoded data removed]",
      "text/plain": [
       "<Figure size 432x288 with 1 Axes>"
      ]
     },
     "metadata": {
      "needs_background": "light"
     },
     "output_type": "display_data"
    }
   ],
   "source": [
    "# first we plot the distribution of the noisy summaries\n",
    "bins = 50\n",
    "plt.hist2d(summaries_noise[:, 0], summaries_noise[:, 1], bins=bins);\n",
    "print(summaries_noise[:, 0].std())\n",
    "print(summaries_noise[:, 1].std())"
   ]
  },
  {
   "cell_type": "code",
   "execution_count": 19,
   "metadata": {},
   "outputs": [
    {
     "name": "stdout",
     "output_type": "stream",
     "text": [
      "0.01479192312853125\n",
      "0.0041980232203730535\n"
     ]
    },
    {
     "data": {
      "image/png": "[encoded data removed]",
      "text/plain": [
       "<Figure size 432x288 with 1 Axes>"
      ]
     },
     "metadata": {
      "needs_background": "light"
     },
     "output_type": "display_data"
    }
   ],
   "source": [
    "bins = 50\n",
    "plt.hist2d(summaries_noise_kept[:, 0], summaries_noise_kept[:, 1], bins=bins);\n",
    "print(summaries_noise_kept[:, 0].std())\n",
    "print(summaries_noise_kept[:, 1].std())"
   ]
  },
  {
   "cell_type": "code",
   "execution_count": 20,
   "metadata": {},
   "outputs": [
    {
     "data": {
      "image/png": "[encoded data removed]",
      "text/plain": [
       "<Figure size 432x288 with 1 Axes>"
      ]
     },
     "metadata": {
      "needs_background": "light"
     },
     "output_type": "display_data"
    }
   ],
   "source": [
    "# first we plot the distribution of the noisy summaries\n",
    "bins = 50\n",
    "plt.hist2d(summaries_noise[:, 0], summaries_noise[:, 1], bins=bins);\n",
    "plt.scatter(summary_obs[0, 0], summary_obs[0, 1]);"
   ]
  },
  {
   "cell_type": "code",
   "execution_count": 21,
   "metadata": {},
   "outputs": [
    {
     "data": {
      "text/plain": [
       "<matplotlib.collections.PathCollection at 0x20fb8766ba8>"
      ]
     },
     "execution_count": 21,
     "metadata": {},
     "output_type": "execute_result"
    },
    {
     "data": {
      "image/png": "[encoded data removed]",
      "text/plain": [
       "<Figure size 432x288 with 1 Axes>"
      ]
     },
     "metadata": {
      "needs_background": "light"
     },
     "output_type": "display_data"
    }
   ],
   "source": [
    "# we also check if the shift FN is within the summaries of the fiducial noisy data\n",
    "bins = 30\n",
    "plt.hist2d(summaries_noise[:, 0], summaries_noise[:, 1], bins=bins);\n",
    "plt.scatter(summary_shift[0][0], summary_shift[0][1])"
   ]
  },
  {
   "cell_type": "code",
   "execution_count": 22,
   "metadata": {},
   "outputs": [
    {
     "data": {
      "image/png": "[encoded data removed]",
      "text/plain": [
       "<Figure size 432x288 with 1 Axes>"
      ]
     },
     "metadata": {
      "needs_background": "light"
     },
     "output_type": "display_data"
    }
   ],
   "source": [
    "plt.scatter(summaries_posterior[:, 0], summaries_posterior[:, 1]);"
   ]
  },
  {
   "cell_type": "markdown",
   "metadata": {},
   "source": [
    "# Gaussianisation of the latent space\n",
    "\n",
    "At this stage, we finally need to set up the NF between the obtaines sample of summaries, in order to have the bijection to that space. We will use Inverse Autoregressive Flows (IAFs)."
   ]
  },
  {
   "cell_type": "code",
   "execution_count": 23,
   "metadata": {},
   "outputs": [
    {
     "name": "stdout",
     "output_type": "stream",
     "text": [
      "WARNING:tensorflow:From <ipython-input-23-f0a855adfd5f>:14: DatasetV1.make_one_shot_iterator (from tensorflow.python.data.ops.dataset_ops) is deprecated and will be removed in a future version.\n",
      "Instructions for updating:\n",
      "Use `for ... in dataset:` to iterate over a dataset. If using `tf.estimator`, return the `Dataset` object directly from your input function. As a last resort, you can use `tf.compat.v1.data.make_one_shot_iterator(dataset)`.\n"
     ]
    }
   ],
   "source": [
    "# we define a few variables here, and reset the graph\n",
    "DTYPE=tf.float32\n",
    "NP_DTYPE=np.float32\n",
    "tf.reset_default_graph()\n",
    "batch_size = 128\n",
    "num_bijectors = 8\n",
    "\n",
    "# we transform the summaries to a TF dataset object\n",
    "dataset = tf.data.Dataset.from_tensor_slices(summaries_noise.astype(NP_DTYPE))\n",
    "dataset = dataset.repeat()\n",
    "dataset = dataset.shuffle(buffer_size=summaries_noise.shape[0])\n",
    "dataset = dataset.prefetch(3 * batch_size)\n",
    "dataset = dataset.batch(batch_size)\n",
    "data_iterator = dataset.make_one_shot_iterator()\n",
    "x_samples = data_iterator.get_next()"
   ]
  },
  {
   "cell_type": "code",
   "execution_count": 24,
   "metadata": {},
   "outputs": [],
   "source": [
    "# this is the distribution to match\n",
    "#base_dist = tfd.Normal(loc=0.0, scale=1.0)\n",
    "base_dist = tfd.MultivariateNormalDiag(loc=tf.zeros([2], DTYPE))"
   ]
  },
  {
   "cell_type": "code",
   "execution_count": 25,
   "metadata": {},
   "outputs": [],
   "source": [
    "# we define the flow here\n",
    "bijectors = []\n",
    "for i in range(num_bijectors):\n",
    "    bijectors.append(tfb.Invert(tfb.MaskedAutoregressiveFlow(\n",
    "            shift_and_log_scale_fn=tfb.masked_autoregressive_default_template(\n",
    "                hidden_layers=[1024, 1024]))))\n",
    "    bijectors.append(tfb.Permute(permutation=[1, 0]))\n",
    "# discard the last Permute layer.\n",
    "flow_bijector = tfb.Chain(list(reversed(bijectors[:-1])))"
   ]
  },
  {
   "cell_type": "code",
   "execution_count": 26,
   "metadata": {},
   "outputs": [],
   "source": [
    "# this is the transformed distribution, i.e. the distribution of the summaries\n",
    "dist = tfd.TransformedDistribution(\n",
    "            distribution=base_dist,\n",
    "            bijector=flow_bijector)"
   ]
  },
  {
   "cell_type": "code",
   "execution_count": 27,
   "metadata": {},
   "outputs": [
    {
     "name": "stdout",
     "output_type": "stream",
     "text": [
      "WARNING:tensorflow:From C:\\Users\\Davide\\Anaconda3\\lib\\site-packages\\tensorflow_probability\\python\\bijectors\\masked_autoregressive.py:450: Layer.apply (from tensorflow.python.keras.engine.base_layer) is deprecated and will be removed in a future version.\n",
      "Instructions for updating:\n",
      "Please use `layer.__call__` method instead.\n"
     ]
    }
   ],
   "source": [
    "# optimisation\n",
    "loss = -tf.reduce_mean(dist.log_prob(x_samples))\n",
    "train_op = tf.train.AdamOptimizer(1e-3).minimize(loss)"
   ]
  },
  {
   "cell_type": "code",
   "execution_count": 28,
   "metadata": {
    "scrolled": true
   },
   "outputs": [
    {
     "name": "stdout",
     "output_type": "stream",
     "text": [
      "0 2.2498868\n",
      "500 -2.3828094\n",
      "1000 -5.4660864\n"
     ]
    },
    {
     "data": {
      "text/plain": [
       "[<matplotlib.lines.Line2D at 0x20f82c654e0>]"
      ]
     },
     "execution_count": 28,
     "metadata": {},
     "output_type": "execute_result"
    },
    {
     "data": {
      "image/png": "[encoded data removed]",
      "text/plain": [
       "<Figure size 432x288 with 1 Axes>"
      ]
     },
     "metadata": {
      "needs_background": "light"
     },
     "output_type": "display_data"
    }
   ],
   "source": [
    "# and finally we train the NF as well\n",
    "sess = tf.Session()\n",
    "sess.run(tf.global_variables_initializer())\n",
    "NUM_STEPS = 1500#int(settings[TARGET_DENSITY]['train_iters'])\n",
    "global_step = []\n",
    "losses = []\n",
    "for i in range(NUM_STEPS):\n",
    "    _, np_loss = sess.run([train_op, loss])\n",
    "    if i % 10 == 0:\n",
    "        global_step.append(i)\n",
    "        losses.append(np_loss)\n",
    "        #g_losses.append(gl)\n",
    "    if i % int(5e2) == 0:\n",
    "        print(i, np_loss)\n",
    "start = 0\n",
    "plt.plot(global_step, losses[start:])"
   ]
  },
  {
   "cell_type": "code",
   "execution_count": 29,
   "metadata": {},
   "outputs": [],
   "source": [
    "# now we need to look at samples which we inject in the flow to the Gaussian domain\n",
    "# just to make sure the gaussianisation was successful"
   ]
  },
  {
   "cell_type": "code",
   "execution_count": 30,
   "metadata": {},
   "outputs": [],
   "source": [
    "# we look at the flow injection, which corresponds to the inverse pass\n",
    "x = x_samples\n",
    "samples = [x]\n",
    "names = [base_dist.name]\n",
    "for bijector in dist.bijector.bijectors:\n",
    "    x = bijector.inverse(x)\n",
    "    samples.append(x)\n",
    "    names.append(bijector.name)\n",
    "samples_plot = [samples[0], samples[-1], base_dist.sample(128)]\n",
    "names=['Latent', 'Mapped latent', 'Original Gaussian']"
   ]
  },
  {
   "cell_type": "code",
   "execution_count": 31,
   "metadata": {},
   "outputs": [
    {
     "data": {
      "image/png": "[encoded data removed]",
      "text/plain": [
       "<Figure size 864x288 with 3 Axes>"
      ]
     },
     "metadata": {
      "needs_background": "light"
     },
     "output_type": "display_data"
    }
   ],
   "source": [
    "noise_flow = sess.run(samples_plot)\n",
    "f, arr = plt.subplots(1, len(noise_flow), figsize=(4 * (len(noise_flow)), 4))\n",
    "X0 = noise_flow[0]\n",
    "for i in range(len(noise_flow)):\n",
    "    X1 = noise_flow[i]\n",
    "    arr[i].scatter(X1[:, 0], X1[:, 1], s=10)\n",
    "    arr[i].set_title(names[i])"
   ]
  },
  {
   "cell_type": "code",
   "execution_count": 32,
   "metadata": {},
   "outputs": [
    {
     "name": "stdout",
     "output_type": "stream",
     "text": [
      "0.49162722\n",
      "0.69706124\n",
      "-0.18042062\n",
      "0.15880355\n",
      "-0.11151815\n",
      "0.10733327\n"
     ]
    }
   ],
   "source": [
    "print(noise_flow[0][:, 0].mean())\n",
    "print(noise_flow[0][:, 1].mean())\n",
    "print(noise_flow[1][:, 0].mean())\n",
    "print(noise_flow[1][:, 1].mean())\n",
    "print(noise_flow[2][:, 0].mean())\n",
    "print(noise_flow[2][:, 1].mean())"
   ]
  },
  {
   "cell_type": "code",
   "execution_count": 33,
   "metadata": {},
   "outputs": [
    {
     "name": "stdout",
     "output_type": "stream",
     "text": [
      "0.06603759\n",
      "0.018448241\n",
      "0.9673287\n",
      "0.9505014\n",
      "0.91205263\n",
      "0.90926003\n"
     ]
    }
   ],
   "source": [
    "print(noise_flow[0][:, 0].std())\n",
    "print(noise_flow[0][:, 1].std())\n",
    "print(noise_flow[1][:, 0].std())\n",
    "print(noise_flow[1][:, 1].std())\n",
    "print(noise_flow[2][:, 0].std())\n",
    "print(noise_flow[2][:, 1].std())"
   ]
  },
  {
   "cell_type": "code",
   "execution_count": 34,
   "metadata": {},
   "outputs": [],
   "source": [
    "# we need to inject all of the summaries\n",
    "# in order to do that, we create many Dataset objects\n",
    "# we need to transform the the FN vectors, the observation, and the posterior points\n",
    "dataset = tf.data.Dataset.from_tensor_slices(summary_obs.astype(NP_DTYPE))\n",
    "dataset = dataset.repeat()\n",
    "dataset = dataset.prefetch(3 * 1)\n",
    "dataset = dataset.batch(1)\n",
    "data_iterator = dataset.make_one_shot_iterator()\n",
    "x_samples_obs = data_iterator.get_next()"
   ]
  },
  {
   "cell_type": "code",
   "execution_count": 35,
   "metadata": {},
   "outputs": [],
   "source": [
    "# we need to inject all of the summaries\n",
    "# in order to do that, we create many Dataset objects\n",
    "# we need to transform the the FN vectors, the observation, and the posterior points\n",
    "dataset = tf.data.Dataset.from_tensor_slices(summaries_posterior.astype(NP_DTYPE))\n",
    "dataset = dataset.repeat()\n",
    "dataset = dataset.prefetch(3 * n_sims)\n",
    "dataset = dataset.batch(n_sims)\n",
    "data_iterator = dataset.make_one_shot_iterator()\n",
    "x_samples_posterior = data_iterator.get_next()"
   ]
  },
  {
   "cell_type": "code",
   "execution_count": 36,
   "metadata": {},
   "outputs": [],
   "source": [
    "# we inject the shift as well\n",
    "dataset = tf.data.Dataset.from_tensor_slices(summary_shift.astype(NP_DTYPE))\n",
    "dataset = dataset.repeat()\n",
    "dataset = dataset.prefetch(3 * 1)\n",
    "dataset = dataset.batch(1)\n",
    "data_iterator = dataset.make_one_shot_iterator()\n",
    "x_samples_shift = data_iterator.get_next()"
   ]
  },
  {
   "cell_type": "code",
   "execution_count": 37,
   "metadata": {},
   "outputs": [],
   "source": [
    "# we inject the FN observation in the flow, since we need the fiducial one for the posterior evaluation\n",
    "x = x_samples_shift\n",
    "samples = [x]\n",
    "for bijector in dist.bijector.bijectors:\n",
    "    x = bijector.inverse(x)\n",
    "    samples.append(x)\n",
    "shift_flow_ = samples[-1]\n",
    "shift = sess.run(shift_flow_)"
   ]
  },
  {
   "cell_type": "code",
   "execution_count": 38,
   "metadata": {},
   "outputs": [
    {
     "data": {
      "text/plain": [
       "array([-2.2261832 , -0.68320847], dtype=float32)"
      ]
     },
     "execution_count": 38,
     "metadata": {},
     "output_type": "execute_result"
    }
   ],
   "source": [
    "shift[0]"
   ]
  },
  {
   "cell_type": "code",
   "execution_count": 39,
   "metadata": {},
   "outputs": [],
   "source": [
    "# we inject the posterior points\n",
    "x = x_samples_posterior\n",
    "samples = [x]\n",
    "for bijector in dist.bijector.bijectors:\n",
    "    x = bijector.inverse(x)\n",
    "    samples.append(x)\n",
    "posterior_points_ = samples[-1]\n",
    "posterior_points = sess.run(posterior_points_)"
   ]
  },
  {
   "cell_type": "code",
   "execution_count": 40,
   "metadata": {},
   "outputs": [
    {
     "name": "stdout",
     "output_type": "stream",
     "text": [
      "[]\n"
     ]
    }
   ],
   "source": [
    "# check that there are no duplicates\n",
    "posterior_points__ = list(np.reshape(posterior_points, [-1]))\n",
    "\n",
    "import collections\n",
    "print ([item for item, count in collections.Counter(posterior_points__).items() if count > 1])"
   ]
  },
  {
   "cell_type": "code",
   "execution_count": 41,
   "metadata": {},
   "outputs": [],
   "source": [
    "# we need to shift the posterior points as we want the mean to be captured, and they have fixed noise\n",
    "posterior_points_mu = posterior_points - shift[0]"
   ]
  },
  {
   "cell_type": "code",
   "execution_count": 42,
   "metadata": {},
   "outputs": [],
   "source": [
    "# finally, we try to evaluate the posterior\n",
    "# we first inject the observation in the flow as well\n",
    "x = x_samples_obs\n",
    "samples = [x]\n",
    "for bijector in dist.bijector.bijectors:\n",
    "    x = bijector.inverse(x)\n",
    "    samples.append(x)\n",
    "observation_ = samples[-1]\n",
    "compressed_obs = sess.run(observation_)"
   ]
  },
  {
   "cell_type": "code",
   "execution_count": 43,
   "metadata": {},
   "outputs": [
    {
     "data": {
      "text/plain": [
       "(2500, 2)"
      ]
     },
     "execution_count": 43,
     "metadata": {},
     "output_type": "execute_result"
    }
   ],
   "source": [
    "posterior_points.shape"
   ]
  },
  {
   "cell_type": "code",
   "execution_count": 44,
   "metadata": {},
   "outputs": [
    {
     "data": {
      "image/png": "[encoded data removed]",
      "text/plain": [
       "<Figure size 432x288 with 1 Axes>"
      ]
     },
     "metadata": {
      "needs_background": "light"
     },
     "output_type": "display_data"
    }
   ],
   "source": [
    "plt.scatter(noise_flow[1][:, 0], noise_flow[1][:, 1])\n",
    "plt.scatter(compressed_obs[0][0], compressed_obs[0][1])\n",
    "plt.scatter(shift[0][0], shift[0][1]);\n",
    "plt.scatter(posterior_points_mu[:, 0], posterior_points_mu[:, 1]);"
   ]
  },
  {
   "cell_type": "code",
   "execution_count": 45,
   "metadata": {},
   "outputs": [],
   "source": [
    "# finally we evaluate the likelihood\n",
    "from scipy.stats import multivariate_normal as normal\n",
    "likelihood_arr = np.zeros((n_sims, 3))\n",
    "for index, mu in enumerate(posterior_points_mu):\n",
    "    like_value = normal.pdf(compressed_obs[0], mean=mu, cov=np.eye(2))\n",
    "    likelihood_arr[index, :] = q_prior[index, 0], q_prior[index, 1], like_value"
   ]
  },
  {
   "cell_type": "code",
   "execution_count": 46,
   "metadata": {},
   "outputs": [],
   "source": [
    "likelihood_arr[:, 2] = likelihood_arr[:, 2]/likelihood_arr[:, 2].sum()"
   ]
  },
  {
   "cell_type": "code",
   "execution_count": 47,
   "metadata": {},
   "outputs": [
    {
     "data": {
      "text/plain": [
       "array([4.05544883e-09, 2.51520125e-09, 1.76174059e-09, 1.32484775e-09,\n",
       "       1.04232866e-09, 8.46713718e-10, 7.04435472e-10, 5.96957392e-10,\n",
       "       5.13315749e-10, 4.22075968e-10, 3.70150522e-10, 3.27437263e-10,\n",
       "       2.91827054e-10, 2.61790550e-10, 2.36197987e-10, 2.14196635e-10,\n",
       "       1.95055549e-10, 1.78494749e-10, 1.63875210e-10, 1.50975302e-10,\n",
       "       1.39497284e-10, 1.29288794e-10, 1.20117827e-10, 1.11880359e-10,\n",
       "       1.04431392e-10, 9.76851476e-11, 9.15289014e-11, 8.59333795e-11,\n",
       "       8.08404252e-11, 7.61484519e-11, 7.18348431e-11, 6.78706606e-11,\n",
       "       6.42022157e-11, 6.08118594e-11, 5.76734559e-11, 5.47473820e-11,\n",
       "       5.20268660e-11, 4.95040107e-11, 4.71556766e-11, 4.49517301e-11,\n",
       "       4.28862272e-11, 4.09541319e-11, 3.91419439e-11, 3.74326466e-11,\n",
       "       3.58239131e-11, 3.43141908e-11, 3.28972045e-11, 3.15616033e-11,\n",
       "       3.02944512e-11])"
      ]
     },
     "execution_count": 47,
     "metadata": {},
     "output_type": "execute_result"
    }
   ],
   "source": [
    "d_vec_obs_keep[0]"
   ]
  },
  {
   "cell_type": "code",
   "execution_count": 48,
   "metadata": {},
   "outputs": [],
   "source": [
    "# we retrieve the real posterior here\n",
    "# a few things that will be useful later on\n",
    "from scipy.stats import gamma\n",
    "ell = np.arange(2, lmax+1)\n",
    "shape = mul_mode_fac*(2*ell+1)/2\n",
    "\n",
    "likelihood_arr_true = np.zeros((n_bins*n_bins, 3))\n",
    "index = 0\n",
    "\n",
    "# and we evaluate the likelihood here\n",
    "for i in xx:\n",
    "    for j in yy:\n",
    "        load = np.loadtxt(f'./power_spectra/power_spectrum_{i}_{j}.dat')\n",
    "        cls = load[:, 1]\n",
    "        scale = 2*cls[ell]/(mul_mode_fac*(2*ell+1))\n",
    "        evaluation = gamma.pdf(x=d_vec_obs[0], a=shape, loc=0, scale=scale)  # the scipy gamma distribution has a slightly different definition than the numpy one\n",
    "        likelihood = np.prod(evaluation/3e12)\n",
    "        likelihood_arr_true[index, :] = i, j, likelihood\n",
    "        index += 1\n",
    "like_norm_true = np.sum(likelihood_arr_true[:, 2])\n",
    "likelihood_arr_true[:, 2] = likelihood_arr_true[:, 2] / like_norm_true"
   ]
  },
  {
   "cell_type": "code",
   "execution_count": 49,
   "metadata": {},
   "outputs": [],
   "source": [
    "omega_m_obs, S8_obs = q_obs[0], q_obs[1]"
   ]
  },
  {
   "cell_type": "code",
   "execution_count": 50,
   "metadata": {},
   "outputs": [
    {
     "data": {
      "image/png": "[encoded data removed]",
      "text/plain": [
       "<Figure size 540x540 with 4 Axes>"
      ]
     },
     "metadata": {
      "needs_background": "light"
     },
     "output_type": "display_data"
    }
   ],
   "source": [
    "from chainconsumer import ChainConsumer\n",
    "xs = likelihood_arr[:, 0]\n",
    "ys = likelihood_arr[:, 1]\n",
    "#ys = ys/np.sqrt(xs/0.3)\n",
    "pdf_flat = likelihood_arr[:, 2]\n",
    "\n",
    "xs_true = likelihood_arr_true[:, 0]\n",
    "ys_true = likelihood_arr_true[:, 1]\n",
    "#ys = ys/np.sqrt(xs/0.3)\n",
    "pdf_flat_true = likelihood_arr_true[:, 2]\n",
    "\n",
    "c = ChainConsumer()\n",
    "c.add_chain([xs, ys], parameters=[\"$\\Omega_m$\", \"$S_8$\"], weights=pdf_flat, grid=True, name='GLC')\n",
    "c.add_chain([xs_true, ys_true], parameters=[\"$\\Omega_m$\", \"$S_8$\"], weights=pdf_flat_true, grid=True, name='True')\n",
    "c.configure(smooth=1.7)  # Notice how smoothing changes the results!\n",
    "fig = c.plotter.plot(truth=[omega_m_obs, S8_obs])\n",
    "\n",
    "fig.set_size_inches(4.5 + fig.get_size_inches())  "
   ]
  },
  {
   "cell_type": "code",
   "execution_count": 127,
   "metadata": {},
   "outputs": [
    {
     "data": {
      "text/plain": [
       "[0.5, 0.7]"
      ]
     },
     "execution_count": 127,
     "metadata": {},
     "output_type": "execute_result"
    }
   ],
   "source": [
    "q_obs"
   ]
  },
  {
   "cell_type": "code",
   "execution_count": 128,
   "metadata": {},
   "outputs": [
    {
     "name": "stdout",
     "output_type": "stream",
     "text": [
      "-216.83981\n",
      "111.18058\n"
     ]
    }
   ],
   "source": [
    "# other tests to understand what is going wrong\n",
    "# we transform the summaries to a TF dataset object\n",
    "dataset = tf.data.Dataset.from_tensor_slices(summaries_noise_kept.astype(NP_DTYPE))\n",
    "dataset = dataset.repeat()\n",
    "dataset = dataset.prefetch(3 * n)\n",
    "dataset = dataset.batch(n)\n",
    "data_iterator = dataset.make_one_shot_iterator()\n",
    "x_samples_kept = data_iterator.get_next()\n",
    "\n",
    "x = x_samples_kept\n",
    "samples = [x]\n",
    "for bijector in dist.bijector.bijectors:\n",
    "    x = bijector.inverse(x)\n",
    "    samples.append(x)\n",
    "kept = samples[-1]\n",
    "noise_flow_kept = sess.run(kept)\n",
    "\n",
    "#print(posterior_point_mu_kept[0][0])\n",
    "print(noise_flow_kept.mean())\n",
    "print(noise_flow_kept.std())"
   ]
  },
  {
   "cell_type": "code",
   "execution_count": 129,
   "metadata": {},
   "outputs": [
    {
     "name": "stdout",
     "output_type": "stream",
     "text": [
      "[1.03665637 0.64321541]\n",
      "[-104.88714 -321.91138] [1.02244898 0.63979592]\n"
     ]
    }
   ],
   "source": [
    "idx = 2258\n",
    "print(np.loadtxt('./power_spectra/parameters_rep_wider.txt')[obs_idx])\n",
    "print(posterior_points_mu[idx], q_prior[idx])"
   ]
  },
  {
   "cell_type": "code",
   "execution_count": 131,
   "metadata": {},
   "outputs": [
    {
     "data": {
      "image/png": "[encoded data removed]",
      "text/plain": [
       "<Figure size 432x288 with 1 Axes>"
      ]
     },
     "metadata": {
      "needs_background": "light"
     },
     "output_type": "display_data"
    }
   ],
   "source": [
    "plt.scatter(noise_flow_kept[:, 0], noise_flow_kept[:, 1]);\n",
    "plt.scatter(posterior_points_mu[idx][0], posterior_points_mu[idx][1]);"
   ]
  },
  {
   "cell_type": "code",
   "execution_count": 57,
   "metadata": {},
   "outputs": [
    {
     "name": "stdout",
     "output_type": "stream",
     "text": [
      "-72.33367\n",
      "-60.11797\n"
     ]
    }
   ],
   "source": [
    "print(noise_flow_kept[:, 0].mean())\n",
    "print(noise_flow_kept[:, 1].mean())"
   ]
  },
  {
   "cell_type": "code",
   "execution_count": 58,
   "metadata": {},
   "outputs": [
    {
     "name": "stdout",
     "output_type": "stream",
     "text": [
      "0.2729098\n",
      "7.579063\n"
     ]
    }
   ],
   "source": [
    "print(noise_flow_kept[:, 0].std())\n",
    "print(noise_flow_kept[:, 1].std())"
   ]
  },
  {
   "cell_type": "code",
   "execution_count": null,
   "metadata": {},
   "outputs": [],
   "source": []
  },
  {
   "cell_type": "code",
   "execution_count": null,
   "metadata": {},
   "outputs": [],
   "source": []
  },
  {
   "cell_type": "code",
   "execution_count": null,
   "metadata": {},
   "outputs": [],
   "source": []
  },
  {
   "cell_type": "code",
   "execution_count": null,
   "metadata": {},
   "outputs": [],
   "source": []
  },
  {
   "cell_type": "code",
   "execution_count": null,
   "metadata": {},
   "outputs": [],
   "source": []
  },
  {
   "cell_type": "code",
   "execution_count": null,
   "metadata": {},
   "outputs": [],
   "source": []
  },
  {
   "cell_type": "code",
   "execution_count": null,
   "metadata": {},
   "outputs": [],
   "source": []
  },
  {
   "cell_type": "code",
   "execution_count": null,
   "metadata": {},
   "outputs": [],
   "source": []
  },
  {
   "cell_type": "code",
   "execution_count": null,
   "metadata": {},
   "outputs": [],
   "source": []
  },
  {
   "cell_type": "code",
   "execution_count": null,
   "metadata": {},
   "outputs": [],
   "source": []
  },
  {
   "cell_type": "code",
   "execution_count": null,
   "metadata": {},
   "outputs": [],
   "source": []
  },
  {
   "cell_type": "code",
   "execution_count": null,
   "metadata": {},
   "outputs": [],
   "source": []
  },
  {
   "cell_type": "code",
   "execution_count": null,
   "metadata": {},
   "outputs": [],
   "source": []
  },
  {
   "cell_type": "code",
   "execution_count": null,
   "metadata": {},
   "outputs": [],
   "source": []
  },
  {
   "cell_type": "code",
   "execution_count": 80,
   "metadata": {},
   "outputs": [],
   "source": [
    "def find_level(nums, level):\n",
    "    sum = 0\n",
    "    for num in nums:\n",
    "        sum += num\n",
    "        if sum > level:\n",
    "            return num"
   ]
  },
  {
   "cell_type": "code",
   "execution_count": 81,
   "metadata": {},
   "outputs": [],
   "source": [
    "# we want to draw 68% confidence intervals here, and we start by\n",
    "# finding the level corresponding to that\n",
    "sorted_posterior = sorted(theo_post[:, 1], reverse=True)\n",
    "# we should now start summing the elements in this sorted list,\n",
    "# and stop when we reach the desired level, usually 68 or 95\n",
    "req_level = 0.68\n",
    "level = find_level(sorted_posterior, req_level)\n",
    "rep_level = [level]*n_sims\n",
    "condition = np.where(theo_post[:, 1] >= rep_level, 1, -1)\n",
    "try:\n",
    "    id1, id2 = np.argwhere(np.diff(condition)).flatten()\n",
    "except:\n",
    "    id1, id2 = 0, 0"
   ]
  },
  {
   "cell_type": "code",
   "execution_count": 82,
   "metadata": {
    "scrolled": true
   },
   "outputs": [
    {
     "data": {
      "image/png": "[encoded data removed]",
      "text/plain": [
       "<Figure size 432x288 with 1 Axes>"
      ]
     },
     "metadata": {
      "needs_background": "light"
     },
     "output_type": "display_data"
    }
   ],
   "source": [
    "plt.plot(theo_post[:, 0],  theo_post[:, 1], c='k', label='Theoretical')\n",
    "#plt.fill_between(theo_post[id1:id2+1, 0], theo_post[id1:id2+1, 1],  alpha=0.5, color='k')\n",
    "\n",
    "# from the ML, with the corresponding error\n",
    "# confidence levels of the generated one\n",
    "sorted_posterior = sorted(likelihood_arr[:, 1], reverse=True)\n",
    "level = find_level(sorted_posterior, req_level)\n",
    "rep_level = [level]*n_sims\n",
    "try:\n",
    "    condition = np.where(likelihood_arr[:, 1] >= rep_level, 1, -1)\n",
    "    id1_gen, id2_gen = np.argwhere(np.diff(condition)).flatten()\n",
    "except:\n",
    "    id1_gen, id2_gen = 0, 0\n",
    "plt.plot(likelihood_arr[:, 0], likelihood_arr[:, 1], linestyle='-.', label='Generated')\n",
    "#plt.fill_between(likelihood_arr[id1_gen:id2_gen+1, 0], likelihood_arr[id1_gen:id2_gen+1, 1], alpha=0.5, color='C0')\n",
    "plt.legend()\n",
    "plt.axvline(q_fid_obs, linestyle='--', color='r')\n",
    "max_est = theo_post[np.argmax(theo_post[:, 1]), 0]\n",
    "upp_bound = theo_post[id2, 0] - max_est\n",
    "low_bound = max_est - theo_post[id1, 0]\n",
    "\n",
    "max_est_gen = likelihood_arr[:, 0][np.argmax(likelihood_arr[:, 1])]\n",
    "upp_bound_gen = likelihood_arr[:, 0][id2_gen] - max_est_gen\n",
    "low_bound_gen = max_est_gen - likelihood_arr[:, 0][id1_gen]\n",
    "plt.title(f'{max_est:.3f} $ ^{{ + {upp_bound:.3f} }}$ $ _{{ - {low_bound:.3f} }}$ vs {max_est_gen:.3f} $ ^{{ + {upp_bound_gen:.3f} }}$ $ _{{ - {low_bound_gen:.3f} }}$');\n",
    "#plt.savefig('./posterior_1e3_nofill_diffprior.png')"
   ]
  },
  {
   "cell_type": "code",
   "execution_count": null,
   "metadata": {},
   "outputs": [],
   "source": []
  },
  {
   "cell_type": "code",
   "execution_count": 44,
   "metadata": {},
   "outputs": [
    {
     "name": "stdout",
     "output_type": "stream",
     "text": [
      "-5.8625674\n",
      "0.9873675\n"
     ]
    }
   ],
   "source": [
    "# other tests to understand what is going wrong\n",
    "# we transform the summaries to a TF dataset object\n",
    "dataset = tf.data.Dataset.from_tensor_slices(summaries_noise_kept.astype(NP_DTYPE))\n",
    "dataset = dataset.repeat()\n",
    "dataset = dataset.prefetch(3 * n)\n",
    "dataset = dataset.batch(n)\n",
    "data_iterator = dataset.make_one_shot_iterator()\n",
    "x_samples_kept = data_iterator.get_next()\n",
    "\n",
    "x = x_samples_kept\n",
    "samples = [x]\n",
    "for bijector in dist.bijector.bijectors:\n",
    "    x = bijector.inverse(x)\n",
    "    samples.append(x)\n",
    "kept = samples[-1]\n",
    "noise_flow_kept = sess.run(kept)\n",
    "\n",
    "#print(posterior_point_mu_kept[0][0])\n",
    "print(noise_flow_kept.mean())\n",
    "print(noise_flow_kept.std())"
   ]
  },
  {
   "cell_type": "code",
   "execution_count": null,
   "metadata": {},
   "outputs": [],
   "source": []
  },
  {
   "cell_type": "code",
   "execution_count": 29,
   "metadata": {},
   "outputs": [],
   "source": [
    "# separate test for this case"
   ]
  },
  {
   "cell_type": "code",
   "execution_count": 13,
   "metadata": {},
   "outputs": [],
   "source": [
    "def manual_gauss(data):\n",
    "    return (data - summaries_noise.mean()) / summaries_noise.std()\n",
    "\n",
    "noise_flow = manual_gauss(summaries_noise)\n",
    "noise_flow_kept = manual_gauss(summaries_noise_kept)\n",
    "compressed_obs = manual_gauss(summary_obs)\n",
    "posterior_points = manual_gauss(summaries_posterior)\n",
    "shift = manual_gauss(summary_shift)\n",
    "posterior_points_mu = posterior_points  - shift\n",
    "#shift_kept = manual_gauss(summary_shift_kept)\n",
    "#posterior_point_mu_kept = shift_kept - shift"
   ]
  },
  {
   "cell_type": "code",
   "execution_count": 14,
   "metadata": {},
   "outputs": [
    {
     "name": "stdout",
     "output_type": "stream",
     "text": [
      "-9.166001291305293e-16\n",
      "0.9999999999999999\n"
     ]
    }
   ],
   "source": [
    "print(noise_flow.mean())\n",
    "print(noise_flow.std())"
   ]
  },
  {
   "cell_type": "code",
   "execution_count": 15,
   "metadata": {},
   "outputs": [
    {
     "name": "stdout",
     "output_type": "stream",
     "text": [
      "0.7381241241648753\n",
      "0.9892812301336827\n"
     ]
    }
   ],
   "source": [
    "#print(posterior_point_mu_kept[0][0])\n",
    "print(noise_flow_kept.mean())\n",
    "print(noise_flow_kept.std())"
   ]
  },
  {
   "cell_type": "code",
   "execution_count": 16,
   "metadata": {},
   "outputs": [
    {
     "data": {
      "text/plain": [
       "array([[0.47775812]])"
      ]
     },
     "execution_count": 16,
     "metadata": {},
     "output_type": "execute_result"
    }
   ],
   "source": [
    "shift "
   ]
  },
  {
   "cell_type": "code",
   "execution_count": 17,
   "metadata": {},
   "outputs": [
    {
     "data": {
      "text/plain": [
       "array([[0.84920788]])"
      ]
     },
     "execution_count": 17,
     "metadata": {},
     "output_type": "execute_result"
    }
   ],
   "source": [
    "compressed_obs"
   ]
  },
  {
   "cell_type": "code",
   "execution_count": 18,
   "metadata": {},
   "outputs": [],
   "source": [
    "# finally we evaluate the likelihood\n",
    "from scipy.stats import norm as normal\n",
    "likelihood_arr = np.zeros((n_sims, 2))\n",
    "for index, mu in enumerate(posterior_points_mu):\n",
    "    like_value = normal.pdf(compressed_obs[0][0], loc=mu, scale=1)\n",
    "    likelihood_arr[index, :] = q_prior[index], like_value\n",
    "likelihood_arr[:, 1] = likelihood_arr[:, 1]/likelihood_arr[:, 1].sum()"
   ]
  },
  {
   "cell_type": "code",
   "execution_count": 19,
   "metadata": {},
   "outputs": [],
   "source": [
    "import scipy.special as sps\n",
    "theo_post = np.zeros((n_sims, 2))\n",
    "for i, q in enumerate(q_prior):\n",
    "    y = 1\n",
    "    scale = q/n_vec\n",
    "    for j in range(1, n_vec+1):\n",
    "        shape = j / q**2\n",
    "        y *= d_vec_obs[0, j-1]**(shape-1)*(np.exp(-d_vec_obs[0, j-1]/scale) / (sps.gamma(shape)*scale**shape))\n",
    "    theo_post[i] = q, y\n",
    "theo_post[:, 1] = theo_post[:, 1] / np.sum(theo_post[:, 1])"
   ]
  },
  {
   "cell_type": "code",
   "execution_count": 20,
   "metadata": {},
   "outputs": [],
   "source": [
    "def find_level(nums, level):\n",
    "    sum = 0\n",
    "    for num in nums:\n",
    "        sum += num\n",
    "        if sum > level:\n",
    "            return num"
   ]
  },
  {
   "cell_type": "code",
   "execution_count": 21,
   "metadata": {},
   "outputs": [],
   "source": [
    "# we want to draw 68% confidence intervals here, and we start by\n",
    "# finding the level corresponding to that\n",
    "sorted_posterior = sorted(theo_post[:, 1], reverse=True)\n",
    "# we should now start summing the elements in this sorted list,\n",
    "# and stop when we reach the desired level, usually 68 or 95\n",
    "req_level = 0.68\n",
    "level = find_level(sorted_posterior, req_level)\n",
    "rep_level = [level]*n_sims\n",
    "condition = np.where(theo_post[:, 1] >= rep_level, 1, -1)\n",
    "try:\n",
    "    id1, id2 = np.argwhere(np.diff(condition)).flatten()\n",
    "except:\n",
    "    id1, id2 = 0, 0"
   ]
  },
  {
   "cell_type": "code",
   "execution_count": 22,
   "metadata": {},
   "outputs": [
    {
     "data": {
      "image/png": "[encoded data removed]",
      "text/plain": [
       "<Figure size 432x288 with 1 Axes>"
      ]
     },
     "metadata": {
      "needs_background": "light"
     },
     "output_type": "display_data"
    }
   ],
   "source": [
    "plt.plot(theo_post[:, 0],  theo_post[:, 1], c='k', label='Theoretical')\n",
    "#plt.fill_between(theo_post[id1:id2+1, 0], theo_post[id1:id2+1, 1],  alpha=0.5, color='k')\n",
    "\n",
    "# from the ML, with the corresponding error\n",
    "# confidence levels of the generated one\n",
    "sorted_posterior = sorted(likelihood_arr[:, 1], reverse=True)\n",
    "level = find_level(sorted_posterior, req_level)\n",
    "rep_level = [level]*n_sims\n",
    "try:\n",
    "    condition = np.where(likelihood_arr[:, 1] >= rep_level, 1, -1)\n",
    "    id1_gen, id2_gen = np.argwhere(np.diff(condition)).flatten()\n",
    "except:\n",
    "    id1_gen, id2_gen = 0, 0\n",
    "plt.plot(likelihood_arr[:, 0], likelihood_arr[:, 1], linestyle='-.', label='Generated')\n",
    "#plt.fill_between(likelihood_arr[id1_gen:id2_gen+1, 0], likelihood_arr[id1_gen:id2_gen+1, 1], alpha=0.5, color='C0')\n",
    "plt.legend()\n",
    "plt.axvline(q_fid_obs, linestyle='--', color='r')\n",
    "max_est = theo_post[np.argmax(theo_post[:, 1]), 0]\n",
    "upp_bound = theo_post[id2, 0] - max_est\n",
    "low_bound = max_est - theo_post[id1, 0]\n",
    "\n",
    "max_est_gen = likelihood_arr[:, 0][np.argmax(likelihood_arr[:, 1])]\n",
    "upp_bound_gen = likelihood_arr[:, 0][id2_gen] - max_est_gen\n",
    "low_bound_gen = max_est_gen - likelihood_arr[:, 0][id1_gen]\n",
    "plt.title(f'{max_est:.3f} $ ^{{ + {upp_bound:.3f} }}$ $ _{{ - {low_bound:.3f} }}$ vs {max_est_gen:.3f} $ ^{{ + {upp_bound_gen:.3f} }}$ $ _{{ - {low_bound_gen:.3f} }}$');"
   ]
  },
  {
   "cell_type": "code",
   "execution_count": null,
   "metadata": {},
   "outputs": [],
   "source": []
  },
  {
   "cell_type": "code",
   "execution_count": 138,
   "metadata": {},
   "outputs": [
    {
     "name": "stdout",
     "output_type": "stream",
     "text": [
      "Automatically created module for IPython interactive environment\n"
     ]
    },
    {
     "data": {
      "image/png": "[encoded data removed]",
      "text/plain": [
       "<Figure size 432x288 with 1 Axes>"
      ]
     },
     "metadata": {
      "needs_background": "light"
     },
     "output_type": "display_data"
    }
   ],
   "source": [
    "# we test the GP here, and its\n",
    "# capability of interpolating between values\n",
    "%matplotlib inline\n",
    "print(__doc__)\n",
    "\n",
    "# Author: Vincent Dubourg <vincent.dubourg@gmail.com>\n",
    "#         Jake Vanderplas <vanderplas@astro.washington.edu>\n",
    "#         Jan Hendrik Metzen <jhm@informatik.uni-bremen.de>s\n",
    "# License: BSD 3 clause\n",
    "\n",
    "import numpy as np\n",
    "from matplotlib import pyplot as plt\n",
    "\n",
    "from sklearn.gaussian_process import GaussianProcessRegressor\n",
    "from sklearn.gaussian_process.kernels import RBF, ConstantKernel as C\n",
    "\n",
    "np.random.seed(1)\n",
    "\n",
    "\n",
    "def f(x):\n",
    "    \"\"\"The function to predict.\"\"\"\n",
    "    index, = np.where(q_prior == x)\n",
    "    return posterior_points_mu[index]\n",
    "\n",
    "# ----------------------------------------------------------------------\n",
    "#  First the noiseless case\n",
    "gp_points_number = 25\n",
    "idx = np.arange(n_sims)\n",
    "np.random.shuffle(idx)\n",
    "idx = np.linspace(0, n_sims-1, gp_points_number, dtype=np.int64) #idx[:5]\n",
    "X = np.atleast_2d(q_prior[idx]).T #np.atleast_2d(np.arange(10)).T\n",
    "\n",
    "# Observations\n",
    "y = posterior_points_mu[idx] #f(X).ravel()\n",
    "\n",
    "# Mesh the input space for evaluations of the real function, the prediction and\n",
    "# its MSE\n",
    "x = np.atleast_2d(np.linspace(1, 2, n_sims)).T\n",
    "\n",
    "# Instantiate a Gaussian Process model\n",
    "kernel = C(1.0, (1e-3, 1e3)) * RBF(10, (1e-2, 1e2))\n",
    "gp = GaussianProcessRegressor(kernel=kernel, n_restarts_optimizer=9)\n",
    "\n",
    "# Fit to data using Maximum Likelihood Estimation of the parameters\n",
    "gp.fit(X, y)\n",
    "\n",
    "# Make the prediction on the meshed x-axis (ask for MSE as well)\n",
    "y_pred, sigma = gp.predict(x, return_std=True)\n",
    "\n",
    "# Plot the function, the prediction and the 95% confidence interval based on\n",
    "# the MSE\n",
    "plt.figure()\n",
    "plt.plot(x, np.take(posterior_points_mu, np.arange(n_sims)), 'r:', label=r'$f(x)$')\n",
    "plt.plot(X, y, 'r.', markersize=10, label='Observations')\n",
    "plt.plot(x, y_pred, 'b-', label='Prediction')\n",
    "\n",
    "plt.xlabel('$x$')\n",
    "plt.ylabel('$f(x)$')\n",
    "plt.xlim(1.0, 2)\n",
    "#plt.ylim(-5, 10)\n",
    "plt.legend(loc='upper left')\n",
    "plt.show()"
   ]
  },
  {
   "cell_type": "code",
   "execution_count": 139,
   "metadata": {},
   "outputs": [
    {
     "data": {
      "text/plain": [
       "array([[-10.59598752],\n",
       "       [-10.59251528],\n",
       "       [-10.58904423],\n",
       "       [-10.58557439]])"
      ]
     },
     "execution_count": 139,
     "metadata": {},
     "output_type": "execute_result"
    }
   ],
   "source": [
    "y_pred[342:346]"
   ]
  },
  {
   "cell_type": "code",
   "execution_count": 140,
   "metadata": {},
   "outputs": [
    {
     "data": {
      "text/plain": [
       "array([[-10.58457451],\n",
       "       [-10.58128205],\n",
       "       [-10.57799022],\n",
       "       [-10.57469902]])"
      ]
     },
     "execution_count": 140,
     "metadata": {},
     "output_type": "execute_result"
    }
   ],
   "source": [
    "posterior_points_mu[342:346]"
   ]
  },
  {
   "cell_type": "code",
   "execution_count": 141,
   "metadata": {},
   "outputs": [
    {
     "data": {
      "text/plain": [
       "array([   0,  416,  833, 1249, 1666, 2083, 2499, 2916, 3333, 3749, 4166,\n",
       "       4582, 4999, 5416, 5832, 6249, 6666, 7082, 7499, 7915, 8332, 8749,\n",
       "       9165, 9582, 9999], dtype=int64)"
      ]
     },
     "execution_count": 141,
     "metadata": {},
     "output_type": "execute_result"
    }
   ],
   "source": [
    "idx"
   ]
  },
  {
   "cell_type": "code",
   "execution_count": 142,
   "metadata": {},
   "outputs": [
    {
     "data": {
      "text/plain": [
       "[<matplotlib.lines.Line2D at 0x145b460d470>]"
      ]
     },
     "execution_count": 142,
     "metadata": {},
     "output_type": "execute_result"
    },
    {
     "data": {
      "image/png": "[encoded data removed]",
      "text/plain": [
       "<Figure size 432x288 with 1 Axes>"
      ]
     },
     "metadata": {
      "needs_background": "light"
     },
     "output_type": "display_data"
    }
   ],
   "source": [
    "plt.plot(x, posterior_points_mu)"
   ]
  },
  {
   "cell_type": "code",
   "execution_count": 143,
   "metadata": {},
   "outputs": [
    {
     "data": {
      "text/plain": [
       "False"
      ]
     },
     "execution_count": 143,
     "metadata": {},
     "output_type": "execute_result"
    }
   ],
   "source": [
    "is_sorted = lambda a: np.all(a[:-1] <= a[1:])\n",
    "is_sorted(posterior_points_mu)"
   ]
  },
  {
   "cell_type": "code",
   "execution_count": null,
   "metadata": {},
   "outputs": [],
   "source": []
  },
  {
   "cell_type": "code",
   "execution_count": 144,
   "metadata": {},
   "outputs": [],
   "source": [
    "# finally we evaluate the likelihood\n",
    "from scipy.stats import norm as normal\n",
    "likelihood_arr = np.zeros((n_sims, 2))\n",
    "for index, mu in enumerate(y_pred):\n",
    "    like_value = normal.pdf(compressed_obs[0][0], loc=mu, scale=1)\n",
    "    likelihood_arr[index, :] = q_prior[index], like_value\n",
    "likelihood_arr[:, 1] = likelihood_arr[:, 1]/likelihood_arr[:, 1].sum()"
   ]
  },
  {
   "cell_type": "code",
   "execution_count": 145,
   "metadata": {},
   "outputs": [],
   "source": [
    "import scipy.special as sps\n",
    "theo_post = np.zeros((n_sims, 2))\n",
    "for i, q in enumerate(q_prior):\n",
    "    y = 1\n",
    "    scale = q/n_vec\n",
    "    for j in range(1, n_vec+1):\n",
    "        shape = j / q**2\n",
    "        y *= d_vec_obs[0, j-1]**(shape-1)*(np.exp(-d_vec_obs[0, j-1]/scale) / (sps.gamma(shape)*scale**shape))\n",
    "    theo_post[i] = q, y\n",
    "theo_post[:, 1] = theo_post[:, 1] / np.sum(theo_post[:, 1])"
   ]
  },
  {
   "cell_type": "code",
   "execution_count": null,
   "metadata": {},
   "outputs": [],
   "source": [
    "def find_level(nums, level):\n",
    "    sum = 0\n",
    "    for num in nums:\n",
    "        sum += num\n",
    "        if sum > level:\n",
    "            return num"
   ]
  },
  {
   "cell_type": "code",
   "execution_count": 146,
   "metadata": {},
   "outputs": [
    {
     "data": {
      "text/plain": [
       "<matplotlib.lines.Line2D at 0x145bc5752b0>"
      ]
     },
     "execution_count": 146,
     "metadata": {},
     "output_type": "execute_result"
    },
    {
     "data": {
      "image/png": "[encoded data removed]",
      "text/plain": [
       "<Figure size 432x288 with 1 Axes>"
      ]
     },
     "metadata": {
      "needs_background": "light"
     },
     "output_type": "display_data"
    }
   ],
   "source": [
    "plt.plot(theo_post[:, 0],  theo_post[:, 1], c='k', label='Theoretical')\n",
    "plt.plot(likelihood_arr[:, 0], likelihood_arr[:, 1], linestyle='-.', label='Generated')\n",
    "plt.legend()\n",
    "plt.axvline(q_fid_obs, linestyle='--', color='r')"
   ]
  },
  {
   "cell_type": "code",
   "execution_count": null,
   "metadata": {},
   "outputs": [],
   "source": []
  },
  {
   "cell_type": "markdown",
   "metadata": {},
   "source": [
    "# Posterior evaluation\n",
    "\n",
    "After all we've done, we do have a tool that has gaussianised the likelihood. In fact, for a given parameter q, we can create an observation with fixed noise and feed it through the encoder+NF to get a point $y$. The likelihood is a unit Gaussian, with mean given by $\\mu = y - z$, with $z$ the output of encoder+NF for the fiducial fixed noise realisation. In this sense, we only need to run 1 simulation per cosmological parameter.\n",
    "\n",
    "A general observation, instead, is simply encoded and injected in the NF, thus getting the observed compressed data vector.\n",
    "\n",
    "In order to check if we built a useful tool, we are going to calculate the posterior thus obtained. If this works, we can then build on top of this. But, as I expect, it does not work, well... we will need to re-think all of this."
   ]
  },
  {
   "cell_type": "code",
   "execution_count": 44,
   "metadata": {},
   "outputs": [],
   "source": [
    "# first thing we create an observation"
   ]
  }
 ],
 "metadata": {
  "kernelspec": {
   "display_name": "Python 3",
   "language": "python",
   "name": "python3"
  },
  "language_info": {
   "codemirror_mode": {
    "name": "ipython",
    "version": 3
   },
   "file_extension": ".py",
   "mimetype": "text/x-python",
   "name": "python",
   "nbconvert_exporter": "python",
   "pygments_lexer": "ipython3",
   "version": "3.6.9"
  }
 },
 "nbformat": 4,
 "nbformat_minor": 2
}
